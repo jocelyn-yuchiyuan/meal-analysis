{
 "cells": [
  {
   "cell_type": "code",
   "execution_count": 1,
   "id": "68945178",
   "metadata": {},
   "outputs": [],
   "source": [
    "import numpy as np\n",
    "import pandas as pd\n",
    "import matplotlib.pyplot as plt\n",
    "import seaborn as sns\n",
    "import warnings\n",
    "warnings.filterwarnings('ignore')\n",
    "from sklearn.metrics import classification_report\n"
   ]
  },
  {
   "cell_type": "code",
   "execution_count": 2,
   "id": "58ef6abf",
   "metadata": {},
   "outputs": [],
   "source": [
    "data = pd.read_excel('MealAnalysis.xlsx')"
   ]
  },
  {
   "cell_type": "code",
   "execution_count": 3,
   "id": "25e25b76",
   "metadata": {
    "scrolled": true
   },
   "outputs": [
    {
     "data": {
      "text/html": [
       "<div>\n",
       "<style scoped>\n",
       "    .dataframe tbody tr th:only-of-type {\n",
       "        vertical-align: middle;\n",
       "    }\n",
       "\n",
       "    .dataframe tbody tr th {\n",
       "        vertical-align: top;\n",
       "    }\n",
       "\n",
       "    .dataframe thead th {\n",
       "        text-align: right;\n",
       "    }\n",
       "</style>\n",
       "<table border=\"1\" class=\"dataframe\">\n",
       "  <thead>\n",
       "    <tr style=\"text-align: right;\">\n",
       "      <th></th>\n",
       "      <th>Unnamed: 0</th>\n",
       "      <th>Type</th>\n",
       "      <th>gender</th>\n",
       "      <th>age</th>\n",
       "      <th>height</th>\n",
       "      <th>weight</th>\n",
       "      <th>EER[kcal]</th>\n",
       "      <th>P target(15%)[g]</th>\n",
       "      <th>F target(25%)[g]</th>\n",
       "      <th>C target(60%)[g]</th>\n",
       "      <th>number of dishes</th>\n",
       "      <th>E[kcal]</th>\n",
       "      <th>P[g]</th>\n",
       "      <th>F[g]</th>\n",
       "      <th>C[g]</th>\n",
       "      <th>Salt[g]</th>\n",
       "      <th>Vegetables[g]</th>\n",
       "      <th>Score(1:worst 2:bad 3:good 4:best)</th>\n",
       "    </tr>\n",
       "  </thead>\n",
       "  <tbody>\n",
       "    <tr>\n",
       "      <th>0</th>\n",
       "      <td>1.0</td>\n",
       "      <td>breakfast</td>\n",
       "      <td>female</td>\n",
       "      <td>32.0</td>\n",
       "      <td>157.0</td>\n",
       "      <td>48.0</td>\n",
       "      <td>1655.0</td>\n",
       "      <td>62.043750</td>\n",
       "      <td>45.958333</td>\n",
       "      <td>248.175000</td>\n",
       "      <td>2.0</td>\n",
       "      <td>333.87</td>\n",
       "      <td>5.85</td>\n",
       "      <td>0.75</td>\n",
       "      <td>75.69</td>\n",
       "      <td>0.21</td>\n",
       "      <td>29.0</td>\n",
       "      <td>2.0</td>\n",
       "    </tr>\n",
       "    <tr>\n",
       "      <th>1</th>\n",
       "      <td>2.0</td>\n",
       "      <td>breakfast</td>\n",
       "      <td>female</td>\n",
       "      <td>35.0</td>\n",
       "      <td>161.0</td>\n",
       "      <td>55.0</td>\n",
       "      <td>2073.0</td>\n",
       "      <td>77.745091</td>\n",
       "      <td>57.588956</td>\n",
       "      <td>310.980364</td>\n",
       "      <td>2.0</td>\n",
       "      <td>213.85</td>\n",
       "      <td>4.62</td>\n",
       "      <td>4.48</td>\n",
       "      <td>41.25</td>\n",
       "      <td>0.11</td>\n",
       "      <td>0.0</td>\n",
       "      <td>1.0</td>\n",
       "    </tr>\n",
       "    <tr>\n",
       "      <th>2</th>\n",
       "      <td>3.0</td>\n",
       "      <td>breakfast</td>\n",
       "      <td>female</td>\n",
       "      <td>26.0</td>\n",
       "      <td>159.0</td>\n",
       "      <td>51.0</td>\n",
       "      <td>2042.0</td>\n",
       "      <td>76.584375</td>\n",
       "      <td>56.729167</td>\n",
       "      <td>306.337500</td>\n",
       "      <td>4.0</td>\n",
       "      <td>351.59</td>\n",
       "      <td>27.31</td>\n",
       "      <td>18.85</td>\n",
       "      <td>18.10</td>\n",
       "      <td>2.84</td>\n",
       "      <td>116.4</td>\n",
       "      <td>2.0</td>\n",
       "    </tr>\n",
       "    <tr>\n",
       "      <th>3</th>\n",
       "      <td>4.0</td>\n",
       "      <td>breakfast</td>\n",
       "      <td>female</td>\n",
       "      <td>48.0</td>\n",
       "      <td>164.0</td>\n",
       "      <td>57.0</td>\n",
       "      <td>1772.0</td>\n",
       "      <td>66.431250</td>\n",
       "      <td>49.208333</td>\n",
       "      <td>265.725000</td>\n",
       "      <td>2.0</td>\n",
       "      <td>295.43</td>\n",
       "      <td>5.63</td>\n",
       "      <td>0.89</td>\n",
       "      <td>65.08</td>\n",
       "      <td>0.65</td>\n",
       "      <td>189.0</td>\n",
       "      <td>2.0</td>\n",
       "    </tr>\n",
       "    <tr>\n",
       "      <th>4</th>\n",
       "      <td>5.0</td>\n",
       "      <td>dinner</td>\n",
       "      <td>female</td>\n",
       "      <td>48.0</td>\n",
       "      <td>164.0</td>\n",
       "      <td>57.0</td>\n",
       "      <td>1772.0</td>\n",
       "      <td>66.431250</td>\n",
       "      <td>49.208333</td>\n",
       "      <td>265.725000</td>\n",
       "      <td>5.0</td>\n",
       "      <td>876.19</td>\n",
       "      <td>41.46</td>\n",
       "      <td>34.16</td>\n",
       "      <td>96.30</td>\n",
       "      <td>6.37</td>\n",
       "      <td>53.5</td>\n",
       "      <td>2.0</td>\n",
       "    </tr>\n",
       "    <tr>\n",
       "      <th>...</th>\n",
       "      <td>...</td>\n",
       "      <td>...</td>\n",
       "      <td>...</td>\n",
       "      <td>...</td>\n",
       "      <td>...</td>\n",
       "      <td>...</td>\n",
       "      <td>...</td>\n",
       "      <td>...</td>\n",
       "      <td>...</td>\n",
       "      <td>...</td>\n",
       "      <td>...</td>\n",
       "      <td>...</td>\n",
       "      <td>...</td>\n",
       "      <td>...</td>\n",
       "      <td>...</td>\n",
       "      <td>...</td>\n",
       "      <td>...</td>\n",
       "      <td>...</td>\n",
       "    </tr>\n",
       "    <tr>\n",
       "      <th>1310</th>\n",
       "      <td>1311.0</td>\n",
       "      <td>lunch</td>\n",
       "      <td>male</td>\n",
       "      <td>39.0</td>\n",
       "      <td>170.0</td>\n",
       "      <td>60.0</td>\n",
       "      <td>1685.0</td>\n",
       "      <td>63.168750</td>\n",
       "      <td>46.791667</td>\n",
       "      <td>252.675000</td>\n",
       "      <td>2.0</td>\n",
       "      <td>690.60</td>\n",
       "      <td>19.05</td>\n",
       "      <td>33.96</td>\n",
       "      <td>71.89</td>\n",
       "      <td>1.60</td>\n",
       "      <td>60.0</td>\n",
       "      <td>1.0</td>\n",
       "    </tr>\n",
       "    <tr>\n",
       "      <th>1311</th>\n",
       "      <td>1312.0</td>\n",
       "      <td>breakfast</td>\n",
       "      <td>male</td>\n",
       "      <td>39.0</td>\n",
       "      <td>173.0</td>\n",
       "      <td>58.0</td>\n",
       "      <td>2105.0</td>\n",
       "      <td>78.918750</td>\n",
       "      <td>58.458333</td>\n",
       "      <td>315.675000</td>\n",
       "      <td>2.0</td>\n",
       "      <td>292.66</td>\n",
       "      <td>6.02</td>\n",
       "      <td>10.76</td>\n",
       "      <td>42.38</td>\n",
       "      <td>0.97</td>\n",
       "      <td>0.0</td>\n",
       "      <td>1.0</td>\n",
       "    </tr>\n",
       "    <tr>\n",
       "      <th>1312</th>\n",
       "      <td>1313.0</td>\n",
       "      <td>breakfast</td>\n",
       "      <td>male</td>\n",
       "      <td>39.0</td>\n",
       "      <td>170.0</td>\n",
       "      <td>60.0</td>\n",
       "      <td>1685.0</td>\n",
       "      <td>63.168750</td>\n",
       "      <td>46.791667</td>\n",
       "      <td>252.675000</td>\n",
       "      <td>1.0</td>\n",
       "      <td>158.40</td>\n",
       "      <td>5.58</td>\n",
       "      <td>2.64</td>\n",
       "      <td>28.02</td>\n",
       "      <td>0.78</td>\n",
       "      <td>0.0</td>\n",
       "      <td>1.0</td>\n",
       "    </tr>\n",
       "    <tr>\n",
       "      <th>1313</th>\n",
       "      <td>1314.0</td>\n",
       "      <td>dinner</td>\n",
       "      <td>male</td>\n",
       "      <td>39.0</td>\n",
       "      <td>173.0</td>\n",
       "      <td>58.0</td>\n",
       "      <td>2105.0</td>\n",
       "      <td>78.918750</td>\n",
       "      <td>58.458333</td>\n",
       "      <td>315.675000</td>\n",
       "      <td>1.0</td>\n",
       "      <td>363.82</td>\n",
       "      <td>15.20</td>\n",
       "      <td>12.68</td>\n",
       "      <td>44.18</td>\n",
       "      <td>1.35</td>\n",
       "      <td>22.0</td>\n",
       "      <td>2.0</td>\n",
       "    </tr>\n",
       "    <tr>\n",
       "      <th>1314</th>\n",
       "      <td>1315.0</td>\n",
       "      <td>lunch</td>\n",
       "      <td>male</td>\n",
       "      <td>39.0</td>\n",
       "      <td>173.0</td>\n",
       "      <td>58.0</td>\n",
       "      <td>2105.0</td>\n",
       "      <td>78.918750</td>\n",
       "      <td>58.458333</td>\n",
       "      <td>315.675000</td>\n",
       "      <td>1.0</td>\n",
       "      <td>879.37</td>\n",
       "      <td>27.63</td>\n",
       "      <td>31.93</td>\n",
       "      <td>113.66</td>\n",
       "      <td>4.23</td>\n",
       "      <td>52.0</td>\n",
       "      <td>2.0</td>\n",
       "    </tr>\n",
       "  </tbody>\n",
       "</table>\n",
       "<p>1315 rows × 18 columns</p>\n",
       "</div>"
      ],
      "text/plain": [
       "      Unnamed: 0       Type  gender   age  height  weight  EER[kcal]  \\\n",
       "0            1.0  breakfast  female  32.0   157.0    48.0     1655.0   \n",
       "1            2.0  breakfast  female  35.0   161.0    55.0     2073.0   \n",
       "2            3.0  breakfast  female  26.0   159.0    51.0     2042.0   \n",
       "3            4.0  breakfast  female  48.0   164.0    57.0     1772.0   \n",
       "4            5.0     dinner  female  48.0   164.0    57.0     1772.0   \n",
       "...          ...        ...     ...   ...     ...     ...        ...   \n",
       "1310      1311.0      lunch    male  39.0   170.0    60.0     1685.0   \n",
       "1311      1312.0  breakfast    male  39.0   173.0    58.0     2105.0   \n",
       "1312      1313.0  breakfast    male  39.0   170.0    60.0     1685.0   \n",
       "1313      1314.0     dinner    male  39.0   173.0    58.0     2105.0   \n",
       "1314      1315.0      lunch    male  39.0   173.0    58.0     2105.0   \n",
       "\n",
       "      P target(15%)[g]  F target(25%)[g]  C target(60%)[g]  number of dishes  \\\n",
       "0            62.043750         45.958333        248.175000               2.0   \n",
       "1            77.745091         57.588956        310.980364               2.0   \n",
       "2            76.584375         56.729167        306.337500               4.0   \n",
       "3            66.431250         49.208333        265.725000               2.0   \n",
       "4            66.431250         49.208333        265.725000               5.0   \n",
       "...                ...               ...               ...               ...   \n",
       "1310         63.168750         46.791667        252.675000               2.0   \n",
       "1311         78.918750         58.458333        315.675000               2.0   \n",
       "1312         63.168750         46.791667        252.675000               1.0   \n",
       "1313         78.918750         58.458333        315.675000               1.0   \n",
       "1314         78.918750         58.458333        315.675000               1.0   \n",
       "\n",
       "      E[kcal]   P[g]   F[g]    C[g]  Salt[g]  Vegetables[g]  \\\n",
       "0      333.87   5.85   0.75   75.69     0.21           29.0   \n",
       "1      213.85   4.62   4.48   41.25     0.11            0.0   \n",
       "2      351.59  27.31  18.85   18.10     2.84          116.4   \n",
       "3      295.43   5.63   0.89   65.08     0.65          189.0   \n",
       "4      876.19  41.46  34.16   96.30     6.37           53.5   \n",
       "...       ...    ...    ...     ...      ...            ...   \n",
       "1310   690.60  19.05  33.96   71.89     1.60           60.0   \n",
       "1311   292.66   6.02  10.76   42.38     0.97            0.0   \n",
       "1312   158.40   5.58   2.64   28.02     0.78            0.0   \n",
       "1313   363.82  15.20  12.68   44.18     1.35           22.0   \n",
       "1314   879.37  27.63  31.93  113.66     4.23           52.0   \n",
       "\n",
       "      Score(1:worst 2:bad 3:good 4:best)  \n",
       "0                                    2.0  \n",
       "1                                    1.0  \n",
       "2                                    2.0  \n",
       "3                                    2.0  \n",
       "4                                    2.0  \n",
       "...                                  ...  \n",
       "1310                                 1.0  \n",
       "1311                                 1.0  \n",
       "1312                                 1.0  \n",
       "1313                                 2.0  \n",
       "1314                                 2.0  \n",
       "\n",
       "[1315 rows x 18 columns]"
      ]
     },
     "execution_count": 3,
     "metadata": {},
     "output_type": "execute_result"
    }
   ],
   "source": [
    "data"
   ]
  },
  {
   "cell_type": "markdown",
   "id": "9df00ec9",
   "metadata": {},
   "source": [
    "# Prepare the dataset"
   ]
  },
  {
   "cell_type": "markdown",
   "id": "7507147b",
   "metadata": {},
   "source": [
    "## Duplicate Data"
   ]
  },
  {
   "cell_type": "code",
   "execution_count": 4,
   "id": "0d8bead2",
   "metadata": {},
   "outputs": [
    {
     "data": {
      "text/plain": [
       "0"
      ]
     },
     "execution_count": 4,
     "metadata": {},
     "output_type": "execute_result"
    }
   ],
   "source": [
    "data.duplicated().sum()"
   ]
  },
  {
   "cell_type": "markdown",
   "id": "488ff476",
   "metadata": {},
   "source": [
    "## Missing Data"
   ]
  },
  {
   "cell_type": "code",
   "execution_count": 5,
   "id": "35330a6a",
   "metadata": {},
   "outputs": [
    {
     "data": {
      "text/plain": [
       "gender                                1\n",
       "age                                   1\n",
       "height                                1\n",
       "weight                                1\n",
       "Type                                  1\n",
       "Unnamed: 0                            0\n",
       "P[g]                                  0\n",
       "Vegetables[g]                         0\n",
       "Salt[g]                               0\n",
       "C[g]                                  0\n",
       "F[g]                                  0\n",
       "C target(60%)[g]                      0\n",
       "E[kcal]                               0\n",
       "number of dishes                      0\n",
       "F target(25%)[g]                      0\n",
       "P target(15%)[g]                      0\n",
       "EER[kcal]                             0\n",
       "Score(1:worst 2:bad 3:good 4:best)    0\n",
       "dtype: int64"
      ]
     },
     "execution_count": 5,
     "metadata": {},
     "output_type": "execute_result"
    }
   ],
   "source": [
    "data.isnull().sum().sort_values(ascending=False)"
   ]
  },
  {
   "cell_type": "code",
   "execution_count": 6,
   "id": "be1636fb",
   "metadata": {},
   "outputs": [
    {
     "data": {
      "text/plain": [
       "gender                                0.00076\n",
       "age                                   0.00076\n",
       "height                                0.00076\n",
       "weight                                0.00076\n",
       "Type                                  0.00076\n",
       "Unnamed: 0                            0.00000\n",
       "P[g]                                  0.00000\n",
       "Vegetables[g]                         0.00000\n",
       "Salt[g]                               0.00000\n",
       "C[g]                                  0.00000\n",
       "F[g]                                  0.00000\n",
       "C target(60%)[g]                      0.00000\n",
       "E[kcal]                               0.00000\n",
       "number of dishes                      0.00000\n",
       "F target(25%)[g]                      0.00000\n",
       "P target(15%)[g]                      0.00000\n",
       "EER[kcal]                             0.00000\n",
       "Score(1:worst 2:bad 3:good 4:best)    0.00000\n",
       "dtype: float64"
      ]
     },
     "execution_count": 6,
     "metadata": {},
     "output_type": "execute_result"
    }
   ],
   "source": [
    "data.isnull().sum().sort_values(ascending=False)/len(data)"
   ]
  },
  {
   "cell_type": "markdown",
   "id": "6760080f",
   "metadata": {},
   "source": [
    "Since the missing data is very little compare to the whole dataset, I choose to drop it instead of replacing it with certain value"
   ]
  },
  {
   "cell_type": "code",
   "execution_count": 7,
   "id": "e519b5a0",
   "metadata": {},
   "outputs": [],
   "source": [
    "data = data.dropna(subset=['gender','age','height','weight','Type'])"
   ]
  },
  {
   "cell_type": "code",
   "execution_count": 8,
   "id": "78e0d6a3",
   "metadata": {},
   "outputs": [],
   "source": [
    "data = data.drop('Unnamed: 0',axis=1)"
   ]
  },
  {
   "cell_type": "code",
   "execution_count": 9,
   "id": "3643f3d2",
   "metadata": {},
   "outputs": [
    {
     "data": {
      "text/plain": [
       "Type                                  0.0\n",
       "number of dishes                      0.0\n",
       "Vegetables[g]                         0.0\n",
       "Salt[g]                               0.0\n",
       "C[g]                                  0.0\n",
       "F[g]                                  0.0\n",
       "P[g]                                  0.0\n",
       "E[kcal]                               0.0\n",
       "C target(60%)[g]                      0.0\n",
       "gender                                0.0\n",
       "F target(25%)[g]                      0.0\n",
       "P target(15%)[g]                      0.0\n",
       "EER[kcal]                             0.0\n",
       "weight                                0.0\n",
       "height                                0.0\n",
       "age                                   0.0\n",
       "Score(1:worst 2:bad 3:good 4:best)    0.0\n",
       "dtype: float64"
      ]
     },
     "execution_count": 9,
     "metadata": {},
     "output_type": "execute_result"
    }
   ],
   "source": [
    "data.isnull().sum().sort_values(ascending=False)/len(data)"
   ]
  },
  {
   "cell_type": "code",
   "execution_count": 10,
   "id": "7a1f1e64",
   "metadata": {},
   "outputs": [
    {
     "data": {
      "text/html": [
       "<div>\n",
       "<style scoped>\n",
       "    .dataframe tbody tr th:only-of-type {\n",
       "        vertical-align: middle;\n",
       "    }\n",
       "\n",
       "    .dataframe tbody tr th {\n",
       "        vertical-align: top;\n",
       "    }\n",
       "\n",
       "    .dataframe thead th {\n",
       "        text-align: right;\n",
       "    }\n",
       "</style>\n",
       "<table border=\"1\" class=\"dataframe\">\n",
       "  <thead>\n",
       "    <tr style=\"text-align: right;\">\n",
       "      <th></th>\n",
       "      <th>age</th>\n",
       "      <th>height</th>\n",
       "      <th>weight</th>\n",
       "      <th>EER[kcal]</th>\n",
       "      <th>P target(15%)[g]</th>\n",
       "      <th>F target(25%)[g]</th>\n",
       "      <th>C target(60%)[g]</th>\n",
       "      <th>number of dishes</th>\n",
       "      <th>E[kcal]</th>\n",
       "      <th>P[g]</th>\n",
       "      <th>F[g]</th>\n",
       "      <th>C[g]</th>\n",
       "      <th>Salt[g]</th>\n",
       "      <th>Vegetables[g]</th>\n",
       "      <th>Score(1:worst 2:bad 3:good 4:best)</th>\n",
       "    </tr>\n",
       "  </thead>\n",
       "  <tbody>\n",
       "    <tr>\n",
       "      <th>count</th>\n",
       "      <td>1314.000000</td>\n",
       "      <td>1314.000000</td>\n",
       "      <td>1314.000000</td>\n",
       "      <td>1314.000000</td>\n",
       "      <td>1314.000000</td>\n",
       "      <td>1314.000000</td>\n",
       "      <td>1314.000000</td>\n",
       "      <td>1314.000000</td>\n",
       "      <td>1314.000000</td>\n",
       "      <td>1314.000000</td>\n",
       "      <td>1314.000000</td>\n",
       "      <td>1314.000000</td>\n",
       "      <td>1314.000000</td>\n",
       "      <td>1314.000000</td>\n",
       "      <td>1314.000000</td>\n",
       "    </tr>\n",
       "    <tr>\n",
       "      <th>mean</th>\n",
       "      <td>39.703196</td>\n",
       "      <td>166.562405</td>\n",
       "      <td>58.714612</td>\n",
       "      <td>2176.561644</td>\n",
       "      <td>81.615568</td>\n",
       "      <td>60.455977</td>\n",
       "      <td>326.462273</td>\n",
       "      <td>2.707002</td>\n",
       "      <td>595.265244</td>\n",
       "      <td>21.312998</td>\n",
       "      <td>23.561180</td>\n",
       "      <td>69.507664</td>\n",
       "      <td>3.003158</td>\n",
       "      <td>72.618995</td>\n",
       "      <td>1.964992</td>\n",
       "    </tr>\n",
       "    <tr>\n",
       "      <th>std</th>\n",
       "      <td>9.369062</td>\n",
       "      <td>6.498895</td>\n",
       "      <td>8.368238</td>\n",
       "      <td>313.459450</td>\n",
       "      <td>11.754709</td>\n",
       "      <td>8.707192</td>\n",
       "      <td>47.018838</td>\n",
       "      <td>1.613961</td>\n",
       "      <td>309.043933</td>\n",
       "      <td>12.802065</td>\n",
       "      <td>18.166417</td>\n",
       "      <td>36.228099</td>\n",
       "      <td>1.995755</td>\n",
       "      <td>80.746709</td>\n",
       "      <td>0.712413</td>\n",
       "    </tr>\n",
       "    <tr>\n",
       "      <th>min</th>\n",
       "      <td>22.000000</td>\n",
       "      <td>152.000000</td>\n",
       "      <td>45.000000</td>\n",
       "      <td>1545.000000</td>\n",
       "      <td>57.949864</td>\n",
       "      <td>42.925825</td>\n",
       "      <td>231.799455</td>\n",
       "      <td>1.000000</td>\n",
       "      <td>0.000000</td>\n",
       "      <td>0.000000</td>\n",
       "      <td>0.000000</td>\n",
       "      <td>0.000000</td>\n",
       "      <td>0.000000</td>\n",
       "      <td>0.000000</td>\n",
       "      <td>1.000000</td>\n",
       "    </tr>\n",
       "    <tr>\n",
       "      <th>25%</th>\n",
       "      <td>35.000000</td>\n",
       "      <td>160.000000</td>\n",
       "      <td>51.250000</td>\n",
       "      <td>2020.000000</td>\n",
       "      <td>75.731250</td>\n",
       "      <td>56.097222</td>\n",
       "      <td>302.925000</td>\n",
       "      <td>1.000000</td>\n",
       "      <td>371.717500</td>\n",
       "      <td>12.280000</td>\n",
       "      <td>9.942500</td>\n",
       "      <td>42.360000</td>\n",
       "      <td>1.490000</td>\n",
       "      <td>0.000000</td>\n",
       "      <td>2.000000</td>\n",
       "    </tr>\n",
       "    <tr>\n",
       "      <th>50%</th>\n",
       "      <td>39.000000</td>\n",
       "      <td>167.000000</td>\n",
       "      <td>58.000000</td>\n",
       "      <td>2105.000000</td>\n",
       "      <td>78.918750</td>\n",
       "      <td>58.458333</td>\n",
       "      <td>315.675000</td>\n",
       "      <td>2.000000</td>\n",
       "      <td>564.515000</td>\n",
       "      <td>20.170000</td>\n",
       "      <td>19.485000</td>\n",
       "      <td>67.770000</td>\n",
       "      <td>2.720000</td>\n",
       "      <td>47.000000</td>\n",
       "      <td>2.000000</td>\n",
       "    </tr>\n",
       "    <tr>\n",
       "      <th>75%</th>\n",
       "      <td>44.000000</td>\n",
       "      <td>173.000000</td>\n",
       "      <td>63.000000</td>\n",
       "      <td>2376.000000</td>\n",
       "      <td>89.114456</td>\n",
       "      <td>66.010708</td>\n",
       "      <td>356.457825</td>\n",
       "      <td>4.000000</td>\n",
       "      <td>780.620000</td>\n",
       "      <td>28.137500</td>\n",
       "      <td>33.087500</td>\n",
       "      <td>92.722500</td>\n",
       "      <td>4.205000</td>\n",
       "      <td>120.600000</td>\n",
       "      <td>2.000000</td>\n",
       "    </tr>\n",
       "    <tr>\n",
       "      <th>max</th>\n",
       "      <td>62.000000</td>\n",
       "      <td>179.000000</td>\n",
       "      <td>91.000000</td>\n",
       "      <td>3380.000000</td>\n",
       "      <td>126.750000</td>\n",
       "      <td>93.888889</td>\n",
       "      <td>507.000000</td>\n",
       "      <td>13.000000</td>\n",
       "      <td>2382.340000</td>\n",
       "      <td>94.010000</td>\n",
       "      <td>141.660000</td>\n",
       "      <td>239.760000</td>\n",
       "      <td>14.740000</td>\n",
       "      <td>621.500000</td>\n",
       "      <td>4.000000</td>\n",
       "    </tr>\n",
       "  </tbody>\n",
       "</table>\n",
       "</div>"
      ],
      "text/plain": [
       "               age       height       weight    EER[kcal]  P target(15%)[g]  \\\n",
       "count  1314.000000  1314.000000  1314.000000  1314.000000       1314.000000   \n",
       "mean     39.703196   166.562405    58.714612  2176.561644         81.615568   \n",
       "std       9.369062     6.498895     8.368238   313.459450         11.754709   \n",
       "min      22.000000   152.000000    45.000000  1545.000000         57.949864   \n",
       "25%      35.000000   160.000000    51.250000  2020.000000         75.731250   \n",
       "50%      39.000000   167.000000    58.000000  2105.000000         78.918750   \n",
       "75%      44.000000   173.000000    63.000000  2376.000000         89.114456   \n",
       "max      62.000000   179.000000    91.000000  3380.000000        126.750000   \n",
       "\n",
       "       F target(25%)[g]  C target(60%)[g]  number of dishes      E[kcal]  \\\n",
       "count       1314.000000       1314.000000       1314.000000  1314.000000   \n",
       "mean          60.455977        326.462273          2.707002   595.265244   \n",
       "std            8.707192         47.018838          1.613961   309.043933   \n",
       "min           42.925825        231.799455          1.000000     0.000000   \n",
       "25%           56.097222        302.925000          1.000000   371.717500   \n",
       "50%           58.458333        315.675000          2.000000   564.515000   \n",
       "75%           66.010708        356.457825          4.000000   780.620000   \n",
       "max           93.888889        507.000000         13.000000  2382.340000   \n",
       "\n",
       "              P[g]         F[g]         C[g]      Salt[g]  Vegetables[g]  \\\n",
       "count  1314.000000  1314.000000  1314.000000  1314.000000    1314.000000   \n",
       "mean     21.312998    23.561180    69.507664     3.003158      72.618995   \n",
       "std      12.802065    18.166417    36.228099     1.995755      80.746709   \n",
       "min       0.000000     0.000000     0.000000     0.000000       0.000000   \n",
       "25%      12.280000     9.942500    42.360000     1.490000       0.000000   \n",
       "50%      20.170000    19.485000    67.770000     2.720000      47.000000   \n",
       "75%      28.137500    33.087500    92.722500     4.205000     120.600000   \n",
       "max      94.010000   141.660000   239.760000    14.740000     621.500000   \n",
       "\n",
       "       Score(1:worst 2:bad 3:good 4:best)  \n",
       "count                         1314.000000  \n",
       "mean                             1.964992  \n",
       "std                              0.712413  \n",
       "min                              1.000000  \n",
       "25%                              2.000000  \n",
       "50%                              2.000000  \n",
       "75%                              2.000000  \n",
       "max                              4.000000  "
      ]
     },
     "execution_count": 10,
     "metadata": {},
     "output_type": "execute_result"
    }
   ],
   "source": [
    "data.describe()"
   ]
  },
  {
   "cell_type": "code",
   "execution_count": 11,
   "id": "ae25eca6",
   "metadata": {},
   "outputs": [
    {
     "data": {
      "text/plain": [
       "array(['breakfast', 'dinner', 'lunch'], dtype=object)"
      ]
     },
     "execution_count": 11,
     "metadata": {},
     "output_type": "execute_result"
    }
   ],
   "source": [
    "data.Type.unique()"
   ]
  },
  {
   "cell_type": "code",
   "execution_count": 12,
   "id": "a253c11e",
   "metadata": {},
   "outputs": [
    {
     "data": {
      "text/plain": [
       "array(['female', 'male'], dtype=object)"
      ]
     },
     "execution_count": 12,
     "metadata": {},
     "output_type": "execute_result"
    }
   ],
   "source": [
    "data.gender.unique()"
   ]
  },
  {
   "cell_type": "markdown",
   "id": "d46c4e26",
   "metadata": {},
   "source": [
    "# Scaling numerical features\n"
   ]
  },
  {
   "cell_type": "code",
   "execution_count": 13,
   "id": "020bfcb6",
   "metadata": {},
   "outputs": [
    {
     "data": {
      "text/plain": [
       "<AxesSubplot:ylabel='Frequency'>"
      ]
     },
     "execution_count": 13,
     "metadata": {},
     "output_type": "execute_result"
    },
    {
     "data": {
      "image/png": "[encoded data removed]",
      "text/plain": [
       "<Figure size 432x288 with 1 Axes>"
      ]
     },
     "metadata": {
      "needs_background": "light"
     },
     "output_type": "display_data"
    },
    {
     "data": {
      "image/png": "[encoded data removed]",
      "text/plain": [
       "<Figure size 432x288 with 1 Axes>"
      ]
     },
     "metadata": {
      "needs_background": "light"
     },
     "output_type": "display_data"
    }
   ],
   "source": [
    "data[['age']].boxplot()\n",
    "data[['age']].plot.hist(bins=10)"
   ]
  },
  {
   "cell_type": "markdown",
   "id": "9b818184",
   "metadata": {},
   "source": [
    "Age have normal distributions and outliers. Use Robust Scaled."
   ]
  },
  {
   "cell_type": "code",
   "execution_count": 14,
   "id": "0957f44a",
   "metadata": {},
   "outputs": [
    {
     "data": {
      "text/plain": [
       "<AxesSubplot:ylabel='Frequency'>"
      ]
     },
     "execution_count": 14,
     "metadata": {},
     "output_type": "execute_result"
    },
    {
     "data": {
      "image/png": "[encoded data removed]",
      "text/plain": [
       "<Figure size 432x288 with 1 Axes>"
      ]
     },
     "metadata": {
      "needs_background": "light"
     },
     "output_type": "display_data"
    },
    {
     "data": {
      "image/png": "[encoded data removed]",
      "text/plain": [
       "<Figure size 432x288 with 1 Axes>"
      ]
     },
     "metadata": {
      "needs_background": "light"
     },
     "output_type": "display_data"
    }
   ],
   "source": [
    "data[['height']].boxplot()\n",
    "data[['height']].plot.hist(bins=10)"
   ]
  },
  {
   "cell_type": "code",
   "execution_count": 15,
   "id": "7937ee96",
   "metadata": {
    "scrolled": true
   },
   "outputs": [
    {
     "data": {
      "text/plain": [
       "<AxesSubplot:ylabel='Frequency'>"
      ]
     },
     "execution_count": 15,
     "metadata": {},
     "output_type": "execute_result"
    },
    {
     "data": {
      "image/png": "[encoded data removed]",
      "text/plain": [
       "<Figure size 432x288 with 1 Axes>"
      ]
     },
     "metadata": {
      "needs_background": "light"
     },
     "output_type": "display_data"
    },
    {
     "data": {
      "image/png": "[encoded data removed]",
      "text/plain": [
       "<Figure size 432x288 with 1 Axes>"
      ]
     },
     "metadata": {
      "needs_background": "light"
     },
     "output_type": "display_data"
    }
   ],
   "source": [
    "data[['weight']].boxplot()\n",
    "data[['weight']].plot.hist(bins=10)"
   ]
  },
  {
   "cell_type": "code",
   "execution_count": 16,
   "id": "fc31b2fe",
   "metadata": {},
   "outputs": [
    {
     "data": {
      "text/html": [
       "<div>\n",
       "<style scoped>\n",
       "    .dataframe tbody tr th:only-of-type {\n",
       "        vertical-align: middle;\n",
       "    }\n",
       "\n",
       "    .dataframe tbody tr th {\n",
       "        vertical-align: top;\n",
       "    }\n",
       "\n",
       "    .dataframe thead th {\n",
       "        text-align: right;\n",
       "    }\n",
       "</style>\n",
       "<table border=\"1\" class=\"dataframe\">\n",
       "  <thead>\n",
       "    <tr style=\"text-align: right;\">\n",
       "      <th></th>\n",
       "      <th>Type</th>\n",
       "      <th>gender</th>\n",
       "      <th>age</th>\n",
       "      <th>height</th>\n",
       "      <th>weight</th>\n",
       "      <th>EER[kcal]</th>\n",
       "      <th>P target(15%)[g]</th>\n",
       "      <th>F target(25%)[g]</th>\n",
       "      <th>C target(60%)[g]</th>\n",
       "      <th>number of dishes</th>\n",
       "      <th>E[kcal]</th>\n",
       "      <th>P[g]</th>\n",
       "      <th>F[g]</th>\n",
       "      <th>C[g]</th>\n",
       "      <th>Salt[g]</th>\n",
       "      <th>Vegetables[g]</th>\n",
       "      <th>Score(1:worst 2:bad 3:good 4:best)</th>\n",
       "    </tr>\n",
       "  </thead>\n",
       "  <tbody>\n",
       "    <tr>\n",
       "      <th>0</th>\n",
       "      <td>breakfast</td>\n",
       "      <td>female</td>\n",
       "      <td>-0.777778</td>\n",
       "      <td>157.0</td>\n",
       "      <td>-0.851064</td>\n",
       "      <td>1655.0</td>\n",
       "      <td>62.043750</td>\n",
       "      <td>45.958333</td>\n",
       "      <td>248.175000</td>\n",
       "      <td>2.0</td>\n",
       "      <td>333.87</td>\n",
       "      <td>5.85</td>\n",
       "      <td>0.75</td>\n",
       "      <td>75.69</td>\n",
       "      <td>0.21</td>\n",
       "      <td>29.0</td>\n",
       "      <td>2.0</td>\n",
       "    </tr>\n",
       "    <tr>\n",
       "      <th>1</th>\n",
       "      <td>breakfast</td>\n",
       "      <td>female</td>\n",
       "      <td>-0.444444</td>\n",
       "      <td>161.0</td>\n",
       "      <td>-0.255319</td>\n",
       "      <td>2073.0</td>\n",
       "      <td>77.745091</td>\n",
       "      <td>57.588956</td>\n",
       "      <td>310.980364</td>\n",
       "      <td>2.0</td>\n",
       "      <td>213.85</td>\n",
       "      <td>4.62</td>\n",
       "      <td>4.48</td>\n",
       "      <td>41.25</td>\n",
       "      <td>0.11</td>\n",
       "      <td>0.0</td>\n",
       "      <td>1.0</td>\n",
       "    </tr>\n",
       "    <tr>\n",
       "      <th>2</th>\n",
       "      <td>breakfast</td>\n",
       "      <td>female</td>\n",
       "      <td>-1.444444</td>\n",
       "      <td>159.0</td>\n",
       "      <td>-0.595745</td>\n",
       "      <td>2042.0</td>\n",
       "      <td>76.584375</td>\n",
       "      <td>56.729167</td>\n",
       "      <td>306.337500</td>\n",
       "      <td>4.0</td>\n",
       "      <td>351.59</td>\n",
       "      <td>27.31</td>\n",
       "      <td>18.85</td>\n",
       "      <td>18.10</td>\n",
       "      <td>2.84</td>\n",
       "      <td>116.4</td>\n",
       "      <td>2.0</td>\n",
       "    </tr>\n",
       "    <tr>\n",
       "      <th>3</th>\n",
       "      <td>breakfast</td>\n",
       "      <td>female</td>\n",
       "      <td>1.000000</td>\n",
       "      <td>164.0</td>\n",
       "      <td>-0.085106</td>\n",
       "      <td>1772.0</td>\n",
       "      <td>66.431250</td>\n",
       "      <td>49.208333</td>\n",
       "      <td>265.725000</td>\n",
       "      <td>2.0</td>\n",
       "      <td>295.43</td>\n",
       "      <td>5.63</td>\n",
       "      <td>0.89</td>\n",
       "      <td>65.08</td>\n",
       "      <td>0.65</td>\n",
       "      <td>189.0</td>\n",
       "      <td>2.0</td>\n",
       "    </tr>\n",
       "    <tr>\n",
       "      <th>4</th>\n",
       "      <td>dinner</td>\n",
       "      <td>female</td>\n",
       "      <td>1.000000</td>\n",
       "      <td>164.0</td>\n",
       "      <td>-0.085106</td>\n",
       "      <td>1772.0</td>\n",
       "      <td>66.431250</td>\n",
       "      <td>49.208333</td>\n",
       "      <td>265.725000</td>\n",
       "      <td>5.0</td>\n",
       "      <td>876.19</td>\n",
       "      <td>41.46</td>\n",
       "      <td>34.16</td>\n",
       "      <td>96.30</td>\n",
       "      <td>6.37</td>\n",
       "      <td>53.5</td>\n",
       "      <td>2.0</td>\n",
       "    </tr>\n",
       "  </tbody>\n",
       "</table>\n",
       "</div>"
      ],
      "text/plain": [
       "        Type  gender       age  height    weight  EER[kcal]  P target(15%)[g]  \\\n",
       "0  breakfast  female -0.777778   157.0 -0.851064     1655.0         62.043750   \n",
       "1  breakfast  female -0.444444   161.0 -0.255319     2073.0         77.745091   \n",
       "2  breakfast  female -1.444444   159.0 -0.595745     2042.0         76.584375   \n",
       "3  breakfast  female  1.000000   164.0 -0.085106     1772.0         66.431250   \n",
       "4     dinner  female  1.000000   164.0 -0.085106     1772.0         66.431250   \n",
       "\n",
       "   F target(25%)[g]  C target(60%)[g]  number of dishes  E[kcal]   P[g]  \\\n",
       "0         45.958333        248.175000               2.0   333.87   5.85   \n",
       "1         57.588956        310.980364               2.0   213.85   4.62   \n",
       "2         56.729167        306.337500               4.0   351.59  27.31   \n",
       "3         49.208333        265.725000               2.0   295.43   5.63   \n",
       "4         49.208333        265.725000               5.0   876.19  41.46   \n",
       "\n",
       "    F[g]   C[g]  Salt[g]  Vegetables[g]  Score(1:worst 2:bad 3:good 4:best)  \n",
       "0   0.75  75.69     0.21           29.0                                 2.0  \n",
       "1   4.48  41.25     0.11            0.0                                 1.0  \n",
       "2  18.85  18.10     2.84          116.4                                 2.0  \n",
       "3   0.89  65.08     0.65          189.0                                 2.0  \n",
       "4  34.16  96.30     6.37           53.5                                 2.0  "
      ]
     },
     "execution_count": 16,
     "metadata": {},
     "output_type": "execute_result"
    }
   ],
   "source": [
    "from sklearn.preprocessing import RobustScaler\n",
    "\n",
    "## age and weight has outlier so i use to use Robustscaler\n",
    "\n",
    "rb_scaler = RobustScaler() \n",
    "\n",
    "data['age'],data['weight'] = rb_scaler.fit_transform(data[['age','weight']]).T\n",
    "\n",
    "data.head()"
   ]
  },
  {
   "cell_type": "code",
   "execution_count": 17,
   "id": "7c23958d",
   "metadata": {},
   "outputs": [
    {
     "data": {
      "text/html": [
       "<div>\n",
       "<style scoped>\n",
       "    .dataframe tbody tr th:only-of-type {\n",
       "        vertical-align: middle;\n",
       "    }\n",
       "\n",
       "    .dataframe tbody tr th {\n",
       "        vertical-align: top;\n",
       "    }\n",
       "\n",
       "    .dataframe thead th {\n",
       "        text-align: right;\n",
       "    }\n",
       "</style>\n",
       "<table border=\"1\" class=\"dataframe\">\n",
       "  <thead>\n",
       "    <tr style=\"text-align: right;\">\n",
       "      <th></th>\n",
       "      <th>Type</th>\n",
       "      <th>gender</th>\n",
       "      <th>age</th>\n",
       "      <th>height</th>\n",
       "      <th>weight</th>\n",
       "      <th>EER[kcal]</th>\n",
       "      <th>P target(15%)[g]</th>\n",
       "      <th>F target(25%)[g]</th>\n",
       "      <th>C target(60%)[g]</th>\n",
       "      <th>number of dishes</th>\n",
       "      <th>E[kcal]</th>\n",
       "      <th>P[g]</th>\n",
       "      <th>F[g]</th>\n",
       "      <th>C[g]</th>\n",
       "      <th>Salt[g]</th>\n",
       "      <th>Vegetables[g]</th>\n",
       "      <th>Score(1:worst 2:bad 3:good 4:best)</th>\n",
       "    </tr>\n",
       "  </thead>\n",
       "  <tbody>\n",
       "    <tr>\n",
       "      <th>0</th>\n",
       "      <td>breakfast</td>\n",
       "      <td>female</td>\n",
       "      <td>-0.777778</td>\n",
       "      <td>-1.471950</td>\n",
       "      <td>-0.851064</td>\n",
       "      <td>1655.0</td>\n",
       "      <td>62.043750</td>\n",
       "      <td>45.958333</td>\n",
       "      <td>248.175000</td>\n",
       "      <td>-0.438220</td>\n",
       "      <td>333.87</td>\n",
       "      <td>5.85</td>\n",
       "      <td>0.75</td>\n",
       "      <td>75.69</td>\n",
       "      <td>0.21</td>\n",
       "      <td>29.0</td>\n",
       "      <td>2.0</td>\n",
       "    </tr>\n",
       "    <tr>\n",
       "      <th>1</th>\n",
       "      <td>breakfast</td>\n",
       "      <td>female</td>\n",
       "      <td>-0.444444</td>\n",
       "      <td>-0.856226</td>\n",
       "      <td>-0.255319</td>\n",
       "      <td>2073.0</td>\n",
       "      <td>77.745091</td>\n",
       "      <td>57.588956</td>\n",
       "      <td>310.980364</td>\n",
       "      <td>-0.438220</td>\n",
       "      <td>213.85</td>\n",
       "      <td>4.62</td>\n",
       "      <td>4.48</td>\n",
       "      <td>41.25</td>\n",
       "      <td>0.11</td>\n",
       "      <td>0.0</td>\n",
       "      <td>1.0</td>\n",
       "    </tr>\n",
       "    <tr>\n",
       "      <th>2</th>\n",
       "      <td>breakfast</td>\n",
       "      <td>female</td>\n",
       "      <td>-1.444444</td>\n",
       "      <td>-1.164088</td>\n",
       "      <td>-0.595745</td>\n",
       "      <td>2042.0</td>\n",
       "      <td>76.584375</td>\n",
       "      <td>56.729167</td>\n",
       "      <td>306.337500</td>\n",
       "      <td>0.801439</td>\n",
       "      <td>351.59</td>\n",
       "      <td>27.31</td>\n",
       "      <td>18.85</td>\n",
       "      <td>18.10</td>\n",
       "      <td>2.84</td>\n",
       "      <td>116.4</td>\n",
       "      <td>2.0</td>\n",
       "    </tr>\n",
       "    <tr>\n",
       "      <th>3</th>\n",
       "      <td>breakfast</td>\n",
       "      <td>female</td>\n",
       "      <td>1.000000</td>\n",
       "      <td>-0.394433</td>\n",
       "      <td>-0.085106</td>\n",
       "      <td>1772.0</td>\n",
       "      <td>66.431250</td>\n",
       "      <td>49.208333</td>\n",
       "      <td>265.725000</td>\n",
       "      <td>-0.438220</td>\n",
       "      <td>295.43</td>\n",
       "      <td>5.63</td>\n",
       "      <td>0.89</td>\n",
       "      <td>65.08</td>\n",
       "      <td>0.65</td>\n",
       "      <td>189.0</td>\n",
       "      <td>2.0</td>\n",
       "    </tr>\n",
       "    <tr>\n",
       "      <th>4</th>\n",
       "      <td>dinner</td>\n",
       "      <td>female</td>\n",
       "      <td>1.000000</td>\n",
       "      <td>-0.394433</td>\n",
       "      <td>-0.085106</td>\n",
       "      <td>1772.0</td>\n",
       "      <td>66.431250</td>\n",
       "      <td>49.208333</td>\n",
       "      <td>265.725000</td>\n",
       "      <td>1.421268</td>\n",
       "      <td>876.19</td>\n",
       "      <td>41.46</td>\n",
       "      <td>34.16</td>\n",
       "      <td>96.30</td>\n",
       "      <td>6.37</td>\n",
       "      <td>53.5</td>\n",
       "      <td>2.0</td>\n",
       "    </tr>\n",
       "  </tbody>\n",
       "</table>\n",
       "</div>"
      ],
      "text/plain": [
       "        Type  gender       age    height    weight  EER[kcal]  \\\n",
       "0  breakfast  female -0.777778 -1.471950 -0.851064     1655.0   \n",
       "1  breakfast  female -0.444444 -0.856226 -0.255319     2073.0   \n",
       "2  breakfast  female -1.444444 -1.164088 -0.595745     2042.0   \n",
       "3  breakfast  female  1.000000 -0.394433 -0.085106     1772.0   \n",
       "4     dinner  female  1.000000 -0.394433 -0.085106     1772.0   \n",
       "\n",
       "   P target(15%)[g]  F target(25%)[g]  C target(60%)[g]  number of dishes  \\\n",
       "0         62.043750         45.958333        248.175000         -0.438220   \n",
       "1         77.745091         57.588956        310.980364         -0.438220   \n",
       "2         76.584375         56.729167        306.337500          0.801439   \n",
       "3         66.431250         49.208333        265.725000         -0.438220   \n",
       "4         66.431250         49.208333        265.725000          1.421268   \n",
       "\n",
       "   E[kcal]   P[g]   F[g]   C[g]  Salt[g]  Vegetables[g]  \\\n",
       "0   333.87   5.85   0.75  75.69     0.21           29.0   \n",
       "1   213.85   4.62   4.48  41.25     0.11            0.0   \n",
       "2   351.59  27.31  18.85  18.10     2.84          116.4   \n",
       "3   295.43   5.63   0.89  65.08     0.65          189.0   \n",
       "4   876.19  41.46  34.16  96.30     6.37           53.5   \n",
       "\n",
       "   Score(1:worst 2:bad 3:good 4:best)  \n",
       "0                                 2.0  \n",
       "1                                 1.0  \n",
       "2                                 2.0  \n",
       "3                                 2.0  \n",
       "4                                 2.0  "
      ]
     },
     "execution_count": 17,
     "metadata": {},
     "output_type": "execute_result"
    }
   ],
   "source": [
    "from sklearn.preprocessing import StandardScaler\n",
    "\n",
    "scaler = StandardScaler()\n",
    "data['height'],data['number of dishes'] = scaler.fit_transform(data[['height','number of dishes']]).T\n",
    "data.head()"
   ]
  },
  {
   "cell_type": "code",
   "execution_count": 18,
   "id": "c048ca75",
   "metadata": {},
   "outputs": [
    {
     "data": {
      "text/plain": [
       "<AxesSubplot:ylabel='Frequency'>"
      ]
     },
     "execution_count": 18,
     "metadata": {},
     "output_type": "execute_result"
    },
    {
     "data": {
      "image/png": "[encoded data removed]",
      "text/plain": [
       "<Figure size 432x288 with 1 Axes>"
      ]
     },
     "metadata": {
      "needs_background": "light"
     },
     "output_type": "display_data"
    },
    {
     "data": {
      "image/png": "[encoded data removed]",
      "text/plain": [
       "<Figure size 432x288 with 1 Axes>"
      ]
     },
     "metadata": {
      "needs_background": "light"
     },
     "output_type": "display_data"
    }
   ],
   "source": [
    "data[['Vegetables[g]']].boxplot()\n",
    "data[['Vegetables[g]']].plot.hist(bins=10)"
   ]
  },
  {
   "cell_type": "code",
   "execution_count": 19,
   "id": "07bd9043",
   "metadata": {},
   "outputs": [],
   "source": [
    "\n",
    "\n",
    "data['Vegetables[g]'] = data['Vegetables[g]']/350"
   ]
  },
  {
   "cell_type": "code",
   "execution_count": 20,
   "id": "ad90a619",
   "metadata": {},
   "outputs": [
    {
     "data": {
      "text/html": [
       "<div>\n",
       "<style scoped>\n",
       "    .dataframe tbody tr th:only-of-type {\n",
       "        vertical-align: middle;\n",
       "    }\n",
       "\n",
       "    .dataframe tbody tr th {\n",
       "        vertical-align: top;\n",
       "    }\n",
       "\n",
       "    .dataframe thead th {\n",
       "        text-align: right;\n",
       "    }\n",
       "</style>\n",
       "<table border=\"1\" class=\"dataframe\">\n",
       "  <thead>\n",
       "    <tr style=\"text-align: right;\">\n",
       "      <th></th>\n",
       "      <th>Type</th>\n",
       "      <th>gender</th>\n",
       "      <th>age</th>\n",
       "      <th>height</th>\n",
       "      <th>weight</th>\n",
       "      <th>EER[kcal]</th>\n",
       "      <th>P target(15%)[g]</th>\n",
       "      <th>F target(25%)[g]</th>\n",
       "      <th>C target(60%)[g]</th>\n",
       "      <th>number of dishes</th>\n",
       "      <th>E[kcal]</th>\n",
       "      <th>P[g]</th>\n",
       "      <th>F[g]</th>\n",
       "      <th>C[g]</th>\n",
       "      <th>Salt[g]</th>\n",
       "      <th>Vegetables[g]</th>\n",
       "      <th>Score(1:worst 2:bad 3:good 4:best)</th>\n",
       "    </tr>\n",
       "  </thead>\n",
       "  <tbody>\n",
       "    <tr>\n",
       "      <th>0</th>\n",
       "      <td>breakfast</td>\n",
       "      <td>female</td>\n",
       "      <td>-0.777778</td>\n",
       "      <td>-1.471950</td>\n",
       "      <td>-0.851064</td>\n",
       "      <td>1655.0</td>\n",
       "      <td>62.043750</td>\n",
       "      <td>45.958333</td>\n",
       "      <td>248.175000</td>\n",
       "      <td>-0.438220</td>\n",
       "      <td>333.87</td>\n",
       "      <td>5.85</td>\n",
       "      <td>0.75</td>\n",
       "      <td>75.69</td>\n",
       "      <td>0.21</td>\n",
       "      <td>0.082857</td>\n",
       "      <td>2.0</td>\n",
       "    </tr>\n",
       "    <tr>\n",
       "      <th>1</th>\n",
       "      <td>breakfast</td>\n",
       "      <td>female</td>\n",
       "      <td>-0.444444</td>\n",
       "      <td>-0.856226</td>\n",
       "      <td>-0.255319</td>\n",
       "      <td>2073.0</td>\n",
       "      <td>77.745091</td>\n",
       "      <td>57.588956</td>\n",
       "      <td>310.980364</td>\n",
       "      <td>-0.438220</td>\n",
       "      <td>213.85</td>\n",
       "      <td>4.62</td>\n",
       "      <td>4.48</td>\n",
       "      <td>41.25</td>\n",
       "      <td>0.11</td>\n",
       "      <td>0.000000</td>\n",
       "      <td>1.0</td>\n",
       "    </tr>\n",
       "    <tr>\n",
       "      <th>2</th>\n",
       "      <td>breakfast</td>\n",
       "      <td>female</td>\n",
       "      <td>-1.444444</td>\n",
       "      <td>-1.164088</td>\n",
       "      <td>-0.595745</td>\n",
       "      <td>2042.0</td>\n",
       "      <td>76.584375</td>\n",
       "      <td>56.729167</td>\n",
       "      <td>306.337500</td>\n",
       "      <td>0.801439</td>\n",
       "      <td>351.59</td>\n",
       "      <td>27.31</td>\n",
       "      <td>18.85</td>\n",
       "      <td>18.10</td>\n",
       "      <td>2.84</td>\n",
       "      <td>0.332571</td>\n",
       "      <td>2.0</td>\n",
       "    </tr>\n",
       "    <tr>\n",
       "      <th>3</th>\n",
       "      <td>breakfast</td>\n",
       "      <td>female</td>\n",
       "      <td>1.000000</td>\n",
       "      <td>-0.394433</td>\n",
       "      <td>-0.085106</td>\n",
       "      <td>1772.0</td>\n",
       "      <td>66.431250</td>\n",
       "      <td>49.208333</td>\n",
       "      <td>265.725000</td>\n",
       "      <td>-0.438220</td>\n",
       "      <td>295.43</td>\n",
       "      <td>5.63</td>\n",
       "      <td>0.89</td>\n",
       "      <td>65.08</td>\n",
       "      <td>0.65</td>\n",
       "      <td>0.540000</td>\n",
       "      <td>2.0</td>\n",
       "    </tr>\n",
       "    <tr>\n",
       "      <th>4</th>\n",
       "      <td>dinner</td>\n",
       "      <td>female</td>\n",
       "      <td>1.000000</td>\n",
       "      <td>-0.394433</td>\n",
       "      <td>-0.085106</td>\n",
       "      <td>1772.0</td>\n",
       "      <td>66.431250</td>\n",
       "      <td>49.208333</td>\n",
       "      <td>265.725000</td>\n",
       "      <td>1.421268</td>\n",
       "      <td>876.19</td>\n",
       "      <td>41.46</td>\n",
       "      <td>34.16</td>\n",
       "      <td>96.30</td>\n",
       "      <td>6.37</td>\n",
       "      <td>0.152857</td>\n",
       "      <td>2.0</td>\n",
       "    </tr>\n",
       "  </tbody>\n",
       "</table>\n",
       "</div>"
      ],
      "text/plain": [
       "        Type  gender       age    height    weight  EER[kcal]  \\\n",
       "0  breakfast  female -0.777778 -1.471950 -0.851064     1655.0   \n",
       "1  breakfast  female -0.444444 -0.856226 -0.255319     2073.0   \n",
       "2  breakfast  female -1.444444 -1.164088 -0.595745     2042.0   \n",
       "3  breakfast  female  1.000000 -0.394433 -0.085106     1772.0   \n",
       "4     dinner  female  1.000000 -0.394433 -0.085106     1772.0   \n",
       "\n",
       "   P target(15%)[g]  F target(25%)[g]  C target(60%)[g]  number of dishes  \\\n",
       "0         62.043750         45.958333        248.175000         -0.438220   \n",
       "1         77.745091         57.588956        310.980364         -0.438220   \n",
       "2         76.584375         56.729167        306.337500          0.801439   \n",
       "3         66.431250         49.208333        265.725000         -0.438220   \n",
       "4         66.431250         49.208333        265.725000          1.421268   \n",
       "\n",
       "   E[kcal]   P[g]   F[g]   C[g]  Salt[g]  Vegetables[g]  \\\n",
       "0   333.87   5.85   0.75  75.69     0.21       0.082857   \n",
       "1   213.85   4.62   4.48  41.25     0.11       0.000000   \n",
       "2   351.59  27.31  18.85  18.10     2.84       0.332571   \n",
       "3   295.43   5.63   0.89  65.08     0.65       0.540000   \n",
       "4   876.19  41.46  34.16  96.30     6.37       0.152857   \n",
       "\n",
       "   Score(1:worst 2:bad 3:good 4:best)  \n",
       "0                                 2.0  \n",
       "1                                 1.0  \n",
       "2                                 2.0  \n",
       "3                                 2.0  \n",
       "4                                 2.0  "
      ]
     },
     "execution_count": 20,
     "metadata": {},
     "output_type": "execute_result"
    }
   ],
   "source": [
    "data.head()"
   ]
  },
  {
   "cell_type": "code",
   "execution_count": null,
   "id": "22c5c434",
   "metadata": {},
   "outputs": [],
   "source": []
  },
  {
   "cell_type": "code",
   "execution_count": 21,
   "id": "848f336b",
   "metadata": {},
   "outputs": [
    {
     "data": {
      "text/html": [
       "<div>\n",
       "<style scoped>\n",
       "    .dataframe tbody tr th:only-of-type {\n",
       "        vertical-align: middle;\n",
       "    }\n",
       "\n",
       "    .dataframe tbody tr th {\n",
       "        vertical-align: top;\n",
       "    }\n",
       "\n",
       "    .dataframe thead th {\n",
       "        text-align: right;\n",
       "    }\n",
       "</style>\n",
       "<table border=\"1\" class=\"dataframe\">\n",
       "  <thead>\n",
       "    <tr style=\"text-align: right;\">\n",
       "      <th></th>\n",
       "      <th>Type</th>\n",
       "      <th>gender</th>\n",
       "      <th>age</th>\n",
       "      <th>height</th>\n",
       "      <th>weight</th>\n",
       "      <th>EER[kcal]</th>\n",
       "      <th>P target(15%)[g]</th>\n",
       "      <th>F target(25%)[g]</th>\n",
       "      <th>C target(60%)[g]</th>\n",
       "      <th>number of dishes</th>\n",
       "      <th>E[kcal]</th>\n",
       "      <th>P[g]</th>\n",
       "      <th>F[g]</th>\n",
       "      <th>C[g]</th>\n",
       "      <th>Salt[g]</th>\n",
       "      <th>Vegetables[g]</th>\n",
       "      <th>Score(1:worst 2:bad 3:good 4:best)</th>\n",
       "    </tr>\n",
       "  </thead>\n",
       "  <tbody>\n",
       "    <tr>\n",
       "      <th>0</th>\n",
       "      <td>breakfast</td>\n",
       "      <td>female</td>\n",
       "      <td>-0.777778</td>\n",
       "      <td>-1.471950</td>\n",
       "      <td>-0.851064</td>\n",
       "      <td>1655.0</td>\n",
       "      <td>62.043750</td>\n",
       "      <td>45.958333</td>\n",
       "      <td>248.175000</td>\n",
       "      <td>-0.438220</td>\n",
       "      <td>333.87</td>\n",
       "      <td>5.85</td>\n",
       "      <td>0.75</td>\n",
       "      <td>75.69</td>\n",
       "      <td>0.21</td>\n",
       "      <td>0.082857</td>\n",
       "      <td>2.0</td>\n",
       "    </tr>\n",
       "    <tr>\n",
       "      <th>1</th>\n",
       "      <td>breakfast</td>\n",
       "      <td>female</td>\n",
       "      <td>-0.444444</td>\n",
       "      <td>-0.856226</td>\n",
       "      <td>-0.255319</td>\n",
       "      <td>2073.0</td>\n",
       "      <td>77.745091</td>\n",
       "      <td>57.588956</td>\n",
       "      <td>310.980364</td>\n",
       "      <td>-0.438220</td>\n",
       "      <td>213.85</td>\n",
       "      <td>4.62</td>\n",
       "      <td>4.48</td>\n",
       "      <td>41.25</td>\n",
       "      <td>0.11</td>\n",
       "      <td>0.000000</td>\n",
       "      <td>1.0</td>\n",
       "    </tr>\n",
       "    <tr>\n",
       "      <th>2</th>\n",
       "      <td>breakfast</td>\n",
       "      <td>female</td>\n",
       "      <td>-1.444444</td>\n",
       "      <td>-1.164088</td>\n",
       "      <td>-0.595745</td>\n",
       "      <td>2042.0</td>\n",
       "      <td>76.584375</td>\n",
       "      <td>56.729167</td>\n",
       "      <td>306.337500</td>\n",
       "      <td>0.801439</td>\n",
       "      <td>351.59</td>\n",
       "      <td>27.31</td>\n",
       "      <td>18.85</td>\n",
       "      <td>18.10</td>\n",
       "      <td>2.84</td>\n",
       "      <td>0.332571</td>\n",
       "      <td>2.0</td>\n",
       "    </tr>\n",
       "    <tr>\n",
       "      <th>3</th>\n",
       "      <td>breakfast</td>\n",
       "      <td>female</td>\n",
       "      <td>1.000000</td>\n",
       "      <td>-0.394433</td>\n",
       "      <td>-0.085106</td>\n",
       "      <td>1772.0</td>\n",
       "      <td>66.431250</td>\n",
       "      <td>49.208333</td>\n",
       "      <td>265.725000</td>\n",
       "      <td>-0.438220</td>\n",
       "      <td>295.43</td>\n",
       "      <td>5.63</td>\n",
       "      <td>0.89</td>\n",
       "      <td>65.08</td>\n",
       "      <td>0.65</td>\n",
       "      <td>0.540000</td>\n",
       "      <td>2.0</td>\n",
       "    </tr>\n",
       "    <tr>\n",
       "      <th>4</th>\n",
       "      <td>dinner</td>\n",
       "      <td>female</td>\n",
       "      <td>1.000000</td>\n",
       "      <td>-0.394433</td>\n",
       "      <td>-0.085106</td>\n",
       "      <td>1772.0</td>\n",
       "      <td>66.431250</td>\n",
       "      <td>49.208333</td>\n",
       "      <td>265.725000</td>\n",
       "      <td>1.421268</td>\n",
       "      <td>876.19</td>\n",
       "      <td>41.46</td>\n",
       "      <td>34.16</td>\n",
       "      <td>96.30</td>\n",
       "      <td>6.37</td>\n",
       "      <td>0.152857</td>\n",
       "      <td>2.0</td>\n",
       "    </tr>\n",
       "  </tbody>\n",
       "</table>\n",
       "</div>"
      ],
      "text/plain": [
       "        Type  gender       age    height    weight  EER[kcal]  \\\n",
       "0  breakfast  female -0.777778 -1.471950 -0.851064     1655.0   \n",
       "1  breakfast  female -0.444444 -0.856226 -0.255319     2073.0   \n",
       "2  breakfast  female -1.444444 -1.164088 -0.595745     2042.0   \n",
       "3  breakfast  female  1.000000 -0.394433 -0.085106     1772.0   \n",
       "4     dinner  female  1.000000 -0.394433 -0.085106     1772.0   \n",
       "\n",
       "   P target(15%)[g]  F target(25%)[g]  C target(60%)[g]  number of dishes  \\\n",
       "0         62.043750         45.958333        248.175000         -0.438220   \n",
       "1         77.745091         57.588956        310.980364         -0.438220   \n",
       "2         76.584375         56.729167        306.337500          0.801439   \n",
       "3         66.431250         49.208333        265.725000         -0.438220   \n",
       "4         66.431250         49.208333        265.725000          1.421268   \n",
       "\n",
       "   E[kcal]   P[g]   F[g]   C[g]  Salt[g]  Vegetables[g]  \\\n",
       "0   333.87   5.85   0.75  75.69     0.21       0.082857   \n",
       "1   213.85   4.62   4.48  41.25     0.11       0.000000   \n",
       "2   351.59  27.31  18.85  18.10     2.84       0.332571   \n",
       "3   295.43   5.63   0.89  65.08     0.65       0.540000   \n",
       "4   876.19  41.46  34.16  96.30     6.37       0.152857   \n",
       "\n",
       "   Score(1:worst 2:bad 3:good 4:best)  \n",
       "0                                 2.0  \n",
       "1                                 1.0  \n",
       "2                                 2.0  \n",
       "3                                 2.0  \n",
       "4                                 2.0  "
      ]
     },
     "execution_count": 21,
     "metadata": {},
     "output_type": "execute_result"
    }
   ],
   "source": [
    "data.head()"
   ]
  },
  {
   "cell_type": "markdown",
   "id": "28d751bf",
   "metadata": {},
   "source": [
    "# Dataset balancing\n"
   ]
  },
  {
   "cell_type": "code",
   "execution_count": 22,
   "id": "a5f67abd",
   "metadata": {},
   "outputs": [
    {
     "data": {
      "text/plain": [
       "2.0    757\n",
       "1.0    320\n",
       "3.0    200\n",
       "4.0     37\n",
       "Name: Score(1:worst 2:bad 3:good 4:best), dtype: int64"
      ]
     },
     "execution_count": 22,
     "metadata": {},
     "output_type": "execute_result"
    }
   ],
   "source": [
    "data['Score(1:worst 2:bad 3:good 4:best)'].value_counts()"
   ]
  },
  {
   "cell_type": "markdown",
   "id": "17eab075",
   "metadata": {},
   "source": [
    "Try using SMOTE to balance data in the end. The result doesn't improve much"
   ]
  },
  {
   "cell_type": "markdown",
   "id": "d4288455",
   "metadata": {},
   "source": [
    "# Encoding"
   ]
  },
  {
   "cell_type": "code",
   "execution_count": 23,
   "id": "4b54ca69",
   "metadata": {},
   "outputs": [
    {
     "data": {
      "text/plain": [
       "array(['breakfast', 'dinner', 'lunch'], dtype=object)"
      ]
     },
     "execution_count": 23,
     "metadata": {},
     "output_type": "execute_result"
    }
   ],
   "source": [
    "from sklearn.preprocessing import OneHotEncoder\n",
    "import numpy as np\n",
    "\n",
    "data['Type'].unique()  # Check unique values \n",
    "\n"
   ]
  },
  {
   "cell_type": "code",
   "execution_count": 24,
   "id": "11d367b9",
   "metadata": {},
   "outputs": [
    {
     "data": {
      "text/html": [
       "<div>\n",
       "<style scoped>\n",
       "    .dataframe tbody tr th:only-of-type {\n",
       "        vertical-align: middle;\n",
       "    }\n",
       "\n",
       "    .dataframe tbody tr th {\n",
       "        vertical-align: top;\n",
       "    }\n",
       "\n",
       "    .dataframe thead th {\n",
       "        text-align: right;\n",
       "    }\n",
       "</style>\n",
       "<table border=\"1\" class=\"dataframe\">\n",
       "  <thead>\n",
       "    <tr style=\"text-align: right;\">\n",
       "      <th></th>\n",
       "      <th>Type</th>\n",
       "      <th>gender</th>\n",
       "      <th>age</th>\n",
       "      <th>height</th>\n",
       "      <th>weight</th>\n",
       "      <th>EER[kcal]</th>\n",
       "      <th>P target(15%)[g]</th>\n",
       "      <th>F target(25%)[g]</th>\n",
       "      <th>C target(60%)[g]</th>\n",
       "      <th>number of dishes</th>\n",
       "      <th>E[kcal]</th>\n",
       "      <th>P[g]</th>\n",
       "      <th>F[g]</th>\n",
       "      <th>C[g]</th>\n",
       "      <th>Salt[g]</th>\n",
       "      <th>Vegetables[g]</th>\n",
       "      <th>Score(1:worst 2:bad 3:good 4:best)</th>\n",
       "      <th>breakfast</th>\n",
       "      <th>lunch</th>\n",
       "      <th>dinner</th>\n",
       "    </tr>\n",
       "  </thead>\n",
       "  <tbody>\n",
       "    <tr>\n",
       "      <th>0</th>\n",
       "      <td>breakfast</td>\n",
       "      <td>female</td>\n",
       "      <td>-0.777778</td>\n",
       "      <td>-1.471950</td>\n",
       "      <td>-0.851064</td>\n",
       "      <td>1655.0</td>\n",
       "      <td>62.043750</td>\n",
       "      <td>45.958333</td>\n",
       "      <td>248.175000</td>\n",
       "      <td>-0.438220</td>\n",
       "      <td>333.87</td>\n",
       "      <td>5.85</td>\n",
       "      <td>0.75</td>\n",
       "      <td>75.69</td>\n",
       "      <td>0.21</td>\n",
       "      <td>0.082857</td>\n",
       "      <td>2.0</td>\n",
       "      <td>1.0</td>\n",
       "      <td>0.0</td>\n",
       "      <td>0.0</td>\n",
       "    </tr>\n",
       "    <tr>\n",
       "      <th>1</th>\n",
       "      <td>breakfast</td>\n",
       "      <td>female</td>\n",
       "      <td>-0.444444</td>\n",
       "      <td>-0.856226</td>\n",
       "      <td>-0.255319</td>\n",
       "      <td>2073.0</td>\n",
       "      <td>77.745091</td>\n",
       "      <td>57.588956</td>\n",
       "      <td>310.980364</td>\n",
       "      <td>-0.438220</td>\n",
       "      <td>213.85</td>\n",
       "      <td>4.62</td>\n",
       "      <td>4.48</td>\n",
       "      <td>41.25</td>\n",
       "      <td>0.11</td>\n",
       "      <td>0.000000</td>\n",
       "      <td>1.0</td>\n",
       "      <td>1.0</td>\n",
       "      <td>0.0</td>\n",
       "      <td>0.0</td>\n",
       "    </tr>\n",
       "    <tr>\n",
       "      <th>2</th>\n",
       "      <td>breakfast</td>\n",
       "      <td>female</td>\n",
       "      <td>-1.444444</td>\n",
       "      <td>-1.164088</td>\n",
       "      <td>-0.595745</td>\n",
       "      <td>2042.0</td>\n",
       "      <td>76.584375</td>\n",
       "      <td>56.729167</td>\n",
       "      <td>306.337500</td>\n",
       "      <td>0.801439</td>\n",
       "      <td>351.59</td>\n",
       "      <td>27.31</td>\n",
       "      <td>18.85</td>\n",
       "      <td>18.10</td>\n",
       "      <td>2.84</td>\n",
       "      <td>0.332571</td>\n",
       "      <td>2.0</td>\n",
       "      <td>1.0</td>\n",
       "      <td>0.0</td>\n",
       "      <td>0.0</td>\n",
       "    </tr>\n",
       "    <tr>\n",
       "      <th>3</th>\n",
       "      <td>breakfast</td>\n",
       "      <td>female</td>\n",
       "      <td>1.000000</td>\n",
       "      <td>-0.394433</td>\n",
       "      <td>-0.085106</td>\n",
       "      <td>1772.0</td>\n",
       "      <td>66.431250</td>\n",
       "      <td>49.208333</td>\n",
       "      <td>265.725000</td>\n",
       "      <td>-0.438220</td>\n",
       "      <td>295.43</td>\n",
       "      <td>5.63</td>\n",
       "      <td>0.89</td>\n",
       "      <td>65.08</td>\n",
       "      <td>0.65</td>\n",
       "      <td>0.540000</td>\n",
       "      <td>2.0</td>\n",
       "      <td>1.0</td>\n",
       "      <td>0.0</td>\n",
       "      <td>0.0</td>\n",
       "    </tr>\n",
       "    <tr>\n",
       "      <th>4</th>\n",
       "      <td>dinner</td>\n",
       "      <td>female</td>\n",
       "      <td>1.000000</td>\n",
       "      <td>-0.394433</td>\n",
       "      <td>-0.085106</td>\n",
       "      <td>1772.0</td>\n",
       "      <td>66.431250</td>\n",
       "      <td>49.208333</td>\n",
       "      <td>265.725000</td>\n",
       "      <td>1.421268</td>\n",
       "      <td>876.19</td>\n",
       "      <td>41.46</td>\n",
       "      <td>34.16</td>\n",
       "      <td>96.30</td>\n",
       "      <td>6.37</td>\n",
       "      <td>0.152857</td>\n",
       "      <td>2.0</td>\n",
       "      <td>0.0</td>\n",
       "      <td>1.0</td>\n",
       "      <td>0.0</td>\n",
       "    </tr>\n",
       "  </tbody>\n",
       "</table>\n",
       "</div>"
      ],
      "text/plain": [
       "        Type  gender       age    height    weight  EER[kcal]  \\\n",
       "0  breakfast  female -0.777778 -1.471950 -0.851064     1655.0   \n",
       "1  breakfast  female -0.444444 -0.856226 -0.255319     2073.0   \n",
       "2  breakfast  female -1.444444 -1.164088 -0.595745     2042.0   \n",
       "3  breakfast  female  1.000000 -0.394433 -0.085106     1772.0   \n",
       "4     dinner  female  1.000000 -0.394433 -0.085106     1772.0   \n",
       "\n",
       "   P target(15%)[g]  F target(25%)[g]  C target(60%)[g]  number of dishes  \\\n",
       "0         62.043750         45.958333        248.175000         -0.438220   \n",
       "1         77.745091         57.588956        310.980364         -0.438220   \n",
       "2         76.584375         56.729167        306.337500          0.801439   \n",
       "3         66.431250         49.208333        265.725000         -0.438220   \n",
       "4         66.431250         49.208333        265.725000          1.421268   \n",
       "\n",
       "   E[kcal]   P[g]   F[g]   C[g]  Salt[g]  Vegetables[g]  \\\n",
       "0   333.87   5.85   0.75  75.69     0.21       0.082857   \n",
       "1   213.85   4.62   4.48  41.25     0.11       0.000000   \n",
       "2   351.59  27.31  18.85  18.10     2.84       0.332571   \n",
       "3   295.43   5.63   0.89  65.08     0.65       0.540000   \n",
       "4   876.19  41.46  34.16  96.30     6.37       0.152857   \n",
       "\n",
       "   Score(1:worst 2:bad 3:good 4:best)  breakfast  lunch  dinner  \n",
       "0                                 2.0        1.0    0.0     0.0  \n",
       "1                                 1.0        1.0    0.0     0.0  \n",
       "2                                 2.0        1.0    0.0     0.0  \n",
       "3                                 2.0        1.0    0.0     0.0  \n",
       "4                                 2.0        0.0    1.0     0.0  "
      ]
     },
     "execution_count": 24,
     "metadata": {},
     "output_type": "execute_result"
    }
   ],
   "source": [
    "ohe = OneHotEncoder(sparse = False) # Instantiate encoder\n",
    "\n",
    "ohe.fit(data[['Type']]) # Fit encoder\n",
    "\n",
    "Type_encoded = ohe.transform(data[['Type']]) \n",
    "\n",
    "data[\"breakfast\"],data[\"lunch\"],data['dinner'] = Type_encoded.T \n",
    "\n",
    "data.head()"
   ]
  },
  {
   "cell_type": "code",
   "execution_count": 25,
   "id": "e14d6977",
   "metadata": {},
   "outputs": [],
   "source": [
    "data['gender']=pd.get_dummies(data['gender'])['female']"
   ]
  },
  {
   "cell_type": "code",
   "execution_count": 26,
   "id": "0901903e",
   "metadata": {},
   "outputs": [
    {
     "data": {
      "text/html": [
       "<div>\n",
       "<style scoped>\n",
       "    .dataframe tbody tr th:only-of-type {\n",
       "        vertical-align: middle;\n",
       "    }\n",
       "\n",
       "    .dataframe tbody tr th {\n",
       "        vertical-align: top;\n",
       "    }\n",
       "\n",
       "    .dataframe thead th {\n",
       "        text-align: right;\n",
       "    }\n",
       "</style>\n",
       "<table border=\"1\" class=\"dataframe\">\n",
       "  <thead>\n",
       "    <tr style=\"text-align: right;\">\n",
       "      <th></th>\n",
       "      <th>Type</th>\n",
       "      <th>gender</th>\n",
       "      <th>age</th>\n",
       "      <th>height</th>\n",
       "      <th>weight</th>\n",
       "      <th>EER[kcal]</th>\n",
       "      <th>P target(15%)[g]</th>\n",
       "      <th>F target(25%)[g]</th>\n",
       "      <th>C target(60%)[g]</th>\n",
       "      <th>number of dishes</th>\n",
       "      <th>E[kcal]</th>\n",
       "      <th>P[g]</th>\n",
       "      <th>F[g]</th>\n",
       "      <th>C[g]</th>\n",
       "      <th>Salt[g]</th>\n",
       "      <th>Vegetables[g]</th>\n",
       "      <th>Score(1:worst 2:bad 3:good 4:best)</th>\n",
       "      <th>breakfast</th>\n",
       "      <th>lunch</th>\n",
       "      <th>dinner</th>\n",
       "    </tr>\n",
       "  </thead>\n",
       "  <tbody>\n",
       "    <tr>\n",
       "      <th>0</th>\n",
       "      <td>breakfast</td>\n",
       "      <td>1</td>\n",
       "      <td>-0.777778</td>\n",
       "      <td>-1.471950</td>\n",
       "      <td>-0.851064</td>\n",
       "      <td>1655.0</td>\n",
       "      <td>62.043750</td>\n",
       "      <td>45.958333</td>\n",
       "      <td>248.175000</td>\n",
       "      <td>-0.438220</td>\n",
       "      <td>333.87</td>\n",
       "      <td>5.85</td>\n",
       "      <td>0.75</td>\n",
       "      <td>75.69</td>\n",
       "      <td>0.21</td>\n",
       "      <td>0.082857</td>\n",
       "      <td>2.0</td>\n",
       "      <td>1.0</td>\n",
       "      <td>0.0</td>\n",
       "      <td>0.0</td>\n",
       "    </tr>\n",
       "    <tr>\n",
       "      <th>1</th>\n",
       "      <td>breakfast</td>\n",
       "      <td>1</td>\n",
       "      <td>-0.444444</td>\n",
       "      <td>-0.856226</td>\n",
       "      <td>-0.255319</td>\n",
       "      <td>2073.0</td>\n",
       "      <td>77.745091</td>\n",
       "      <td>57.588956</td>\n",
       "      <td>310.980364</td>\n",
       "      <td>-0.438220</td>\n",
       "      <td>213.85</td>\n",
       "      <td>4.62</td>\n",
       "      <td>4.48</td>\n",
       "      <td>41.25</td>\n",
       "      <td>0.11</td>\n",
       "      <td>0.000000</td>\n",
       "      <td>1.0</td>\n",
       "      <td>1.0</td>\n",
       "      <td>0.0</td>\n",
       "      <td>0.0</td>\n",
       "    </tr>\n",
       "    <tr>\n",
       "      <th>2</th>\n",
       "      <td>breakfast</td>\n",
       "      <td>1</td>\n",
       "      <td>-1.444444</td>\n",
       "      <td>-1.164088</td>\n",
       "      <td>-0.595745</td>\n",
       "      <td>2042.0</td>\n",
       "      <td>76.584375</td>\n",
       "      <td>56.729167</td>\n",
       "      <td>306.337500</td>\n",
       "      <td>0.801439</td>\n",
       "      <td>351.59</td>\n",
       "      <td>27.31</td>\n",
       "      <td>18.85</td>\n",
       "      <td>18.10</td>\n",
       "      <td>2.84</td>\n",
       "      <td>0.332571</td>\n",
       "      <td>2.0</td>\n",
       "      <td>1.0</td>\n",
       "      <td>0.0</td>\n",
       "      <td>0.0</td>\n",
       "    </tr>\n",
       "    <tr>\n",
       "      <th>3</th>\n",
       "      <td>breakfast</td>\n",
       "      <td>1</td>\n",
       "      <td>1.000000</td>\n",
       "      <td>-0.394433</td>\n",
       "      <td>-0.085106</td>\n",
       "      <td>1772.0</td>\n",
       "      <td>66.431250</td>\n",
       "      <td>49.208333</td>\n",
       "      <td>265.725000</td>\n",
       "      <td>-0.438220</td>\n",
       "      <td>295.43</td>\n",
       "      <td>5.63</td>\n",
       "      <td>0.89</td>\n",
       "      <td>65.08</td>\n",
       "      <td>0.65</td>\n",
       "      <td>0.540000</td>\n",
       "      <td>2.0</td>\n",
       "      <td>1.0</td>\n",
       "      <td>0.0</td>\n",
       "      <td>0.0</td>\n",
       "    </tr>\n",
       "    <tr>\n",
       "      <th>4</th>\n",
       "      <td>dinner</td>\n",
       "      <td>1</td>\n",
       "      <td>1.000000</td>\n",
       "      <td>-0.394433</td>\n",
       "      <td>-0.085106</td>\n",
       "      <td>1772.0</td>\n",
       "      <td>66.431250</td>\n",
       "      <td>49.208333</td>\n",
       "      <td>265.725000</td>\n",
       "      <td>1.421268</td>\n",
       "      <td>876.19</td>\n",
       "      <td>41.46</td>\n",
       "      <td>34.16</td>\n",
       "      <td>96.30</td>\n",
       "      <td>6.37</td>\n",
       "      <td>0.152857</td>\n",
       "      <td>2.0</td>\n",
       "      <td>0.0</td>\n",
       "      <td>1.0</td>\n",
       "      <td>0.0</td>\n",
       "    </tr>\n",
       "  </tbody>\n",
       "</table>\n",
       "</div>"
      ],
      "text/plain": [
       "        Type  gender       age    height    weight  EER[kcal]  \\\n",
       "0  breakfast       1 -0.777778 -1.471950 -0.851064     1655.0   \n",
       "1  breakfast       1 -0.444444 -0.856226 -0.255319     2073.0   \n",
       "2  breakfast       1 -1.444444 -1.164088 -0.595745     2042.0   \n",
       "3  breakfast       1  1.000000 -0.394433 -0.085106     1772.0   \n",
       "4     dinner       1  1.000000 -0.394433 -0.085106     1772.0   \n",
       "\n",
       "   P target(15%)[g]  F target(25%)[g]  C target(60%)[g]  number of dishes  \\\n",
       "0         62.043750         45.958333        248.175000         -0.438220   \n",
       "1         77.745091         57.588956        310.980364         -0.438220   \n",
       "2         76.584375         56.729167        306.337500          0.801439   \n",
       "3         66.431250         49.208333        265.725000         -0.438220   \n",
       "4         66.431250         49.208333        265.725000          1.421268   \n",
       "\n",
       "   E[kcal]   P[g]   F[g]   C[g]  Salt[g]  Vegetables[g]  \\\n",
       "0   333.87   5.85   0.75  75.69     0.21       0.082857   \n",
       "1   213.85   4.62   4.48  41.25     0.11       0.000000   \n",
       "2   351.59  27.31  18.85  18.10     2.84       0.332571   \n",
       "3   295.43   5.63   0.89  65.08     0.65       0.540000   \n",
       "4   876.19  41.46  34.16  96.30     6.37       0.152857   \n",
       "\n",
       "   Score(1:worst 2:bad 3:good 4:best)  breakfast  lunch  dinner  \n",
       "0                                 2.0        1.0    0.0     0.0  \n",
       "1                                 1.0        1.0    0.0     0.0  \n",
       "2                                 2.0        1.0    0.0     0.0  \n",
       "3                                 2.0        1.0    0.0     0.0  \n",
       "4                                 2.0        0.0    1.0     0.0  "
      ]
     },
     "execution_count": 26,
     "metadata": {},
     "output_type": "execute_result"
    }
   ],
   "source": [
    "data.head()"
   ]
  },
  {
   "cell_type": "markdown",
   "id": "fe2967a0",
   "metadata": {},
   "source": [
    "# Feature engineering"
   ]
  },
  {
   "cell_type": "code",
   "execution_count": 27,
   "id": "54e90c8f",
   "metadata": {},
   "outputs": [],
   "source": [
    "data[\"salt\"] = np.where(data[\"gender\"] == 1, data['Salt[g]']/7,data['Salt[g]']/8 )\n",
    "    \n",
    "## if female, salt devided by 7 which is the daily suggestion amount of salt\n",
    "## if male, devided by 8"
   ]
  },
  {
   "cell_type": "code",
   "execution_count": 28,
   "id": "c0b274aa",
   "metadata": {},
   "outputs": [
    {
     "data": {
      "text/html": [
       "<div>\n",
       "<style scoped>\n",
       "    .dataframe tbody tr th:only-of-type {\n",
       "        vertical-align: middle;\n",
       "    }\n",
       "\n",
       "    .dataframe tbody tr th {\n",
       "        vertical-align: top;\n",
       "    }\n",
       "\n",
       "    .dataframe thead th {\n",
       "        text-align: right;\n",
       "    }\n",
       "</style>\n",
       "<table border=\"1\" class=\"dataframe\">\n",
       "  <thead>\n",
       "    <tr style=\"text-align: right;\">\n",
       "      <th></th>\n",
       "      <th>Type</th>\n",
       "      <th>gender</th>\n",
       "      <th>age</th>\n",
       "      <th>height</th>\n",
       "      <th>weight</th>\n",
       "      <th>EER[kcal]</th>\n",
       "      <th>P target(15%)[g]</th>\n",
       "      <th>F target(25%)[g]</th>\n",
       "      <th>C target(60%)[g]</th>\n",
       "      <th>number of dishes</th>\n",
       "      <th>...</th>\n",
       "      <th>P[g]</th>\n",
       "      <th>F[g]</th>\n",
       "      <th>C[g]</th>\n",
       "      <th>Salt[g]</th>\n",
       "      <th>Vegetables[g]</th>\n",
       "      <th>Score(1:worst 2:bad 3:good 4:best)</th>\n",
       "      <th>breakfast</th>\n",
       "      <th>lunch</th>\n",
       "      <th>dinner</th>\n",
       "      <th>salt</th>\n",
       "    </tr>\n",
       "  </thead>\n",
       "  <tbody>\n",
       "    <tr>\n",
       "      <th>0</th>\n",
       "      <td>breakfast</td>\n",
       "      <td>1</td>\n",
       "      <td>-0.777778</td>\n",
       "      <td>-1.471950</td>\n",
       "      <td>-0.851064</td>\n",
       "      <td>1655.0</td>\n",
       "      <td>62.043750</td>\n",
       "      <td>45.958333</td>\n",
       "      <td>248.175000</td>\n",
       "      <td>-0.438220</td>\n",
       "      <td>...</td>\n",
       "      <td>5.85</td>\n",
       "      <td>0.75</td>\n",
       "      <td>75.69</td>\n",
       "      <td>0.21</td>\n",
       "      <td>0.082857</td>\n",
       "      <td>2.0</td>\n",
       "      <td>1.0</td>\n",
       "      <td>0.0</td>\n",
       "      <td>0.0</td>\n",
       "      <td>0.030000</td>\n",
       "    </tr>\n",
       "    <tr>\n",
       "      <th>1</th>\n",
       "      <td>breakfast</td>\n",
       "      <td>1</td>\n",
       "      <td>-0.444444</td>\n",
       "      <td>-0.856226</td>\n",
       "      <td>-0.255319</td>\n",
       "      <td>2073.0</td>\n",
       "      <td>77.745091</td>\n",
       "      <td>57.588956</td>\n",
       "      <td>310.980364</td>\n",
       "      <td>-0.438220</td>\n",
       "      <td>...</td>\n",
       "      <td>4.62</td>\n",
       "      <td>4.48</td>\n",
       "      <td>41.25</td>\n",
       "      <td>0.11</td>\n",
       "      <td>0.000000</td>\n",
       "      <td>1.0</td>\n",
       "      <td>1.0</td>\n",
       "      <td>0.0</td>\n",
       "      <td>0.0</td>\n",
       "      <td>0.015714</td>\n",
       "    </tr>\n",
       "    <tr>\n",
       "      <th>2</th>\n",
       "      <td>breakfast</td>\n",
       "      <td>1</td>\n",
       "      <td>-1.444444</td>\n",
       "      <td>-1.164088</td>\n",
       "      <td>-0.595745</td>\n",
       "      <td>2042.0</td>\n",
       "      <td>76.584375</td>\n",
       "      <td>56.729167</td>\n",
       "      <td>306.337500</td>\n",
       "      <td>0.801439</td>\n",
       "      <td>...</td>\n",
       "      <td>27.31</td>\n",
       "      <td>18.85</td>\n",
       "      <td>18.10</td>\n",
       "      <td>2.84</td>\n",
       "      <td>0.332571</td>\n",
       "      <td>2.0</td>\n",
       "      <td>1.0</td>\n",
       "      <td>0.0</td>\n",
       "      <td>0.0</td>\n",
       "      <td>0.405714</td>\n",
       "    </tr>\n",
       "    <tr>\n",
       "      <th>3</th>\n",
       "      <td>breakfast</td>\n",
       "      <td>1</td>\n",
       "      <td>1.000000</td>\n",
       "      <td>-0.394433</td>\n",
       "      <td>-0.085106</td>\n",
       "      <td>1772.0</td>\n",
       "      <td>66.431250</td>\n",
       "      <td>49.208333</td>\n",
       "      <td>265.725000</td>\n",
       "      <td>-0.438220</td>\n",
       "      <td>...</td>\n",
       "      <td>5.63</td>\n",
       "      <td>0.89</td>\n",
       "      <td>65.08</td>\n",
       "      <td>0.65</td>\n",
       "      <td>0.540000</td>\n",
       "      <td>2.0</td>\n",
       "      <td>1.0</td>\n",
       "      <td>0.0</td>\n",
       "      <td>0.0</td>\n",
       "      <td>0.092857</td>\n",
       "    </tr>\n",
       "    <tr>\n",
       "      <th>4</th>\n",
       "      <td>dinner</td>\n",
       "      <td>1</td>\n",
       "      <td>1.000000</td>\n",
       "      <td>-0.394433</td>\n",
       "      <td>-0.085106</td>\n",
       "      <td>1772.0</td>\n",
       "      <td>66.431250</td>\n",
       "      <td>49.208333</td>\n",
       "      <td>265.725000</td>\n",
       "      <td>1.421268</td>\n",
       "      <td>...</td>\n",
       "      <td>41.46</td>\n",
       "      <td>34.16</td>\n",
       "      <td>96.30</td>\n",
       "      <td>6.37</td>\n",
       "      <td>0.152857</td>\n",
       "      <td>2.0</td>\n",
       "      <td>0.0</td>\n",
       "      <td>1.0</td>\n",
       "      <td>0.0</td>\n",
       "      <td>0.910000</td>\n",
       "    </tr>\n",
       "  </tbody>\n",
       "</table>\n",
       "<p>5 rows × 21 columns</p>\n",
       "</div>"
      ],
      "text/plain": [
       "        Type  gender       age    height    weight  EER[kcal]  \\\n",
       "0  breakfast       1 -0.777778 -1.471950 -0.851064     1655.0   \n",
       "1  breakfast       1 -0.444444 -0.856226 -0.255319     2073.0   \n",
       "2  breakfast       1 -1.444444 -1.164088 -0.595745     2042.0   \n",
       "3  breakfast       1  1.000000 -0.394433 -0.085106     1772.0   \n",
       "4     dinner       1  1.000000 -0.394433 -0.085106     1772.0   \n",
       "\n",
       "   P target(15%)[g]  F target(25%)[g]  C target(60%)[g]  number of dishes  \\\n",
       "0         62.043750         45.958333        248.175000         -0.438220   \n",
       "1         77.745091         57.588956        310.980364         -0.438220   \n",
       "2         76.584375         56.729167        306.337500          0.801439   \n",
       "3         66.431250         49.208333        265.725000         -0.438220   \n",
       "4         66.431250         49.208333        265.725000          1.421268   \n",
       "\n",
       "   ...   P[g]   F[g]   C[g]  Salt[g]  Vegetables[g]  \\\n",
       "0  ...   5.85   0.75  75.69     0.21       0.082857   \n",
       "1  ...   4.62   4.48  41.25     0.11       0.000000   \n",
       "2  ...  27.31  18.85  18.10     2.84       0.332571   \n",
       "3  ...   5.63   0.89  65.08     0.65       0.540000   \n",
       "4  ...  41.46  34.16  96.30     6.37       0.152857   \n",
       "\n",
       "   Score(1:worst 2:bad 3:good 4:best)  breakfast  lunch  dinner      salt  \n",
       "0                                 2.0        1.0    0.0     0.0  0.030000  \n",
       "1                                 1.0        1.0    0.0     0.0  0.015714  \n",
       "2                                 2.0        1.0    0.0     0.0  0.405714  \n",
       "3                                 2.0        1.0    0.0     0.0  0.092857  \n",
       "4                                 2.0        0.0    1.0     0.0  0.910000  \n",
       "\n",
       "[5 rows x 21 columns]"
      ]
     },
     "execution_count": 28,
     "metadata": {},
     "output_type": "execute_result"
    }
   ],
   "source": [
    "data.head()"
   ]
  },
  {
   "cell_type": "markdown",
   "id": "c9a1afac",
   "metadata": {},
   "source": [
    "## calculate new features"
   ]
  },
  {
   "cell_type": "code",
   "execution_count": 29,
   "id": "fc098ed6",
   "metadata": {},
   "outputs": [],
   "source": [
    "data['E ratio'] = data['E[kcal]']/data['EER[kcal]']\n",
    "data['P ratio'] = data['P[g]']/data['P target(15%)[g]']\n",
    "data['F ratio'] = data['F[g]']/data['F target(25%)[g]']\n",
    "data['C ratio'] = data['C[g]']/data['C target(60%)[g]']"
   ]
  },
  {
   "cell_type": "code",
   "execution_count": 30,
   "id": "f71d7b09",
   "metadata": {},
   "outputs": [],
   "source": [
    "X = data.drop(columns=['EER[kcal]','P target(15%)[g]','F target(25%)[g]','C target(60%)[g]','Type','Score(1:worst 2:bad 3:good 4:best)'])\n",
    "y = data['Score(1:worst 2:bad 3:good 4:best)']"
   ]
  },
  {
   "cell_type": "code",
   "execution_count": 31,
   "id": "8ffcb948",
   "metadata": {},
   "outputs": [
    {
     "data": {
      "text/html": [
       "<div>\n",
       "<style scoped>\n",
       "    .dataframe tbody tr th:only-of-type {\n",
       "        vertical-align: middle;\n",
       "    }\n",
       "\n",
       "    .dataframe tbody tr th {\n",
       "        vertical-align: top;\n",
       "    }\n",
       "\n",
       "    .dataframe thead th {\n",
       "        text-align: right;\n",
       "    }\n",
       "</style>\n",
       "<table border=\"1\" class=\"dataframe\">\n",
       "  <thead>\n",
       "    <tr style=\"text-align: right;\">\n",
       "      <th></th>\n",
       "      <th>gender</th>\n",
       "      <th>age</th>\n",
       "      <th>height</th>\n",
       "      <th>weight</th>\n",
       "      <th>number of dishes</th>\n",
       "      <th>E[kcal]</th>\n",
       "      <th>P[g]</th>\n",
       "      <th>F[g]</th>\n",
       "      <th>C[g]</th>\n",
       "      <th>Salt[g]</th>\n",
       "      <th>Vegetables[g]</th>\n",
       "      <th>breakfast</th>\n",
       "      <th>lunch</th>\n",
       "      <th>dinner</th>\n",
       "      <th>salt</th>\n",
       "      <th>E ratio</th>\n",
       "      <th>P ratio</th>\n",
       "      <th>F ratio</th>\n",
       "      <th>C ratio</th>\n",
       "    </tr>\n",
       "  </thead>\n",
       "  <tbody>\n",
       "    <tr>\n",
       "      <th>0</th>\n",
       "      <td>1</td>\n",
       "      <td>-0.777778</td>\n",
       "      <td>-1.471950</td>\n",
       "      <td>-0.851064</td>\n",
       "      <td>-0.438220</td>\n",
       "      <td>333.87</td>\n",
       "      <td>5.85</td>\n",
       "      <td>0.75</td>\n",
       "      <td>75.69</td>\n",
       "      <td>0.21</td>\n",
       "      <td>0.082857</td>\n",
       "      <td>1.0</td>\n",
       "      <td>0.0</td>\n",
       "      <td>0.0</td>\n",
       "      <td>0.030000</td>\n",
       "      <td>0.201734</td>\n",
       "      <td>0.094288</td>\n",
       "      <td>0.016319</td>\n",
       "      <td>0.304986</td>\n",
       "    </tr>\n",
       "    <tr>\n",
       "      <th>1</th>\n",
       "      <td>1</td>\n",
       "      <td>-0.444444</td>\n",
       "      <td>-0.856226</td>\n",
       "      <td>-0.255319</td>\n",
       "      <td>-0.438220</td>\n",
       "      <td>213.85</td>\n",
       "      <td>4.62</td>\n",
       "      <td>4.48</td>\n",
       "      <td>41.25</td>\n",
       "      <td>0.11</td>\n",
       "      <td>0.000000</td>\n",
       "      <td>1.0</td>\n",
       "      <td>0.0</td>\n",
       "      <td>0.0</td>\n",
       "      <td>0.015714</td>\n",
       "      <td>0.103160</td>\n",
       "      <td>0.059425</td>\n",
       "      <td>0.077793</td>\n",
       "      <td>0.132645</td>\n",
       "    </tr>\n",
       "    <tr>\n",
       "      <th>2</th>\n",
       "      <td>1</td>\n",
       "      <td>-1.444444</td>\n",
       "      <td>-1.164088</td>\n",
       "      <td>-0.595745</td>\n",
       "      <td>0.801439</td>\n",
       "      <td>351.59</td>\n",
       "      <td>27.31</td>\n",
       "      <td>18.85</td>\n",
       "      <td>18.10</td>\n",
       "      <td>2.84</td>\n",
       "      <td>0.332571</td>\n",
       "      <td>1.0</td>\n",
       "      <td>0.0</td>\n",
       "      <td>0.0</td>\n",
       "      <td>0.405714</td>\n",
       "      <td>0.172179</td>\n",
       "      <td>0.356600</td>\n",
       "      <td>0.332281</td>\n",
       "      <td>0.059085</td>\n",
       "    </tr>\n",
       "    <tr>\n",
       "      <th>3</th>\n",
       "      <td>1</td>\n",
       "      <td>1.000000</td>\n",
       "      <td>-0.394433</td>\n",
       "      <td>-0.085106</td>\n",
       "      <td>-0.438220</td>\n",
       "      <td>295.43</td>\n",
       "      <td>5.63</td>\n",
       "      <td>0.89</td>\n",
       "      <td>65.08</td>\n",
       "      <td>0.65</td>\n",
       "      <td>0.540000</td>\n",
       "      <td>1.0</td>\n",
       "      <td>0.0</td>\n",
       "      <td>0.0</td>\n",
       "      <td>0.092857</td>\n",
       "      <td>0.166721</td>\n",
       "      <td>0.084749</td>\n",
       "      <td>0.018086</td>\n",
       "      <td>0.244915</td>\n",
       "    </tr>\n",
       "    <tr>\n",
       "      <th>4</th>\n",
       "      <td>1</td>\n",
       "      <td>1.000000</td>\n",
       "      <td>-0.394433</td>\n",
       "      <td>-0.085106</td>\n",
       "      <td>1.421268</td>\n",
       "      <td>876.19</td>\n",
       "      <td>41.46</td>\n",
       "      <td>34.16</td>\n",
       "      <td>96.30</td>\n",
       "      <td>6.37</td>\n",
       "      <td>0.152857</td>\n",
       "      <td>0.0</td>\n",
       "      <td>1.0</td>\n",
       "      <td>0.0</td>\n",
       "      <td>0.910000</td>\n",
       "      <td>0.494464</td>\n",
       "      <td>0.624104</td>\n",
       "      <td>0.694191</td>\n",
       "      <td>0.362405</td>\n",
       "    </tr>\n",
       "  </tbody>\n",
       "</table>\n",
       "</div>"
      ],
      "text/plain": [
       "   gender       age    height    weight  number of dishes  E[kcal]   P[g]  \\\n",
       "0       1 -0.777778 -1.471950 -0.851064         -0.438220   333.87   5.85   \n",
       "1       1 -0.444444 -0.856226 -0.255319         -0.438220   213.85   4.62   \n",
       "2       1 -1.444444 -1.164088 -0.595745          0.801439   351.59  27.31   \n",
       "3       1  1.000000 -0.394433 -0.085106         -0.438220   295.43   5.63   \n",
       "4       1  1.000000 -0.394433 -0.085106          1.421268   876.19  41.46   \n",
       "\n",
       "    F[g]   C[g]  Salt[g]  Vegetables[g]  breakfast  lunch  dinner      salt  \\\n",
       "0   0.75  75.69     0.21       0.082857        1.0    0.0     0.0  0.030000   \n",
       "1   4.48  41.25     0.11       0.000000        1.0    0.0     0.0  0.015714   \n",
       "2  18.85  18.10     2.84       0.332571        1.0    0.0     0.0  0.405714   \n",
       "3   0.89  65.08     0.65       0.540000        1.0    0.0     0.0  0.092857   \n",
       "4  34.16  96.30     6.37       0.152857        0.0    1.0     0.0  0.910000   \n",
       "\n",
       "    E ratio   P ratio   F ratio   C ratio  \n",
       "0  0.201734  0.094288  0.016319  0.304986  \n",
       "1  0.103160  0.059425  0.077793  0.132645  \n",
       "2  0.172179  0.356600  0.332281  0.059085  \n",
       "3  0.166721  0.084749  0.018086  0.244915  \n",
       "4  0.494464  0.624104  0.694191  0.362405  "
      ]
     },
     "execution_count": 31,
     "metadata": {},
     "output_type": "execute_result"
    }
   ],
   "source": [
    "X.head()"
   ]
  },
  {
   "cell_type": "markdown",
   "id": "4801fede",
   "metadata": {},
   "source": [
    "## Delete features"
   ]
  },
  {
   "cell_type": "code",
   "execution_count": 32,
   "id": "5228b92f",
   "metadata": {
    "scrolled": true
   },
   "outputs": [
    {
     "data": {
      "text/plain": [
       "gender              0.142023\n",
       "age                 0.036097\n",
       "height             -0.081284\n",
       "weight             -0.015985\n",
       "number of dishes    0.372606\n",
       "E[kcal]             0.381802\n",
       "P[g]                0.371194\n",
       "F[g]                0.224695\n",
       "C[g]                0.438909\n",
       "Salt[g]             0.422329\n",
       "Vegetables[g]       0.540537\n",
       "breakfast          -0.296880\n",
       "lunch               0.184207\n",
       "dinner              0.123361\n",
       "salt                0.443348\n",
       "E ratio             0.387743\n",
       "P ratio             0.377356\n",
       "F ratio             0.227804\n",
       "C ratio             0.441417\n",
       "dtype: float64"
      ]
     },
     "execution_count": 32,
     "metadata": {},
     "output_type": "execute_result"
    }
   ],
   "source": [
    "X.corrwith(y)"
   ]
  },
  {
   "cell_type": "code",
   "execution_count": 33,
   "id": "9cf6204f",
   "metadata": {},
   "outputs": [],
   "source": [
    "X= X.drop(columns=['E[kcal]','P[g]','F[g]','C[g]','Salt[g]'])"
   ]
  },
  {
   "cell_type": "code",
   "execution_count": 34,
   "id": "c9a28c31",
   "metadata": {},
   "outputs": [
    {
     "data": {
      "text/html": [
       "<div>\n",
       "<style scoped>\n",
       "    .dataframe tbody tr th:only-of-type {\n",
       "        vertical-align: middle;\n",
       "    }\n",
       "\n",
       "    .dataframe tbody tr th {\n",
       "        vertical-align: top;\n",
       "    }\n",
       "\n",
       "    .dataframe thead th {\n",
       "        text-align: right;\n",
       "    }\n",
       "</style>\n",
       "<table border=\"1\" class=\"dataframe\">\n",
       "  <thead>\n",
       "    <tr style=\"text-align: right;\">\n",
       "      <th></th>\n",
       "      <th>gender</th>\n",
       "      <th>age</th>\n",
       "      <th>height</th>\n",
       "      <th>weight</th>\n",
       "      <th>number of dishes</th>\n",
       "      <th>Vegetables[g]</th>\n",
       "      <th>breakfast</th>\n",
       "      <th>lunch</th>\n",
       "      <th>dinner</th>\n",
       "      <th>salt</th>\n",
       "      <th>E ratio</th>\n",
       "      <th>P ratio</th>\n",
       "      <th>F ratio</th>\n",
       "      <th>C ratio</th>\n",
       "    </tr>\n",
       "  </thead>\n",
       "  <tbody>\n",
       "    <tr>\n",
       "      <th>0</th>\n",
       "      <td>1</td>\n",
       "      <td>-0.777778</td>\n",
       "      <td>-1.471950</td>\n",
       "      <td>-0.851064</td>\n",
       "      <td>-0.438220</td>\n",
       "      <td>0.082857</td>\n",
       "      <td>1.0</td>\n",
       "      <td>0.0</td>\n",
       "      <td>0.0</td>\n",
       "      <td>0.030000</td>\n",
       "      <td>0.201734</td>\n",
       "      <td>0.094288</td>\n",
       "      <td>0.016319</td>\n",
       "      <td>0.304986</td>\n",
       "    </tr>\n",
       "    <tr>\n",
       "      <th>1</th>\n",
       "      <td>1</td>\n",
       "      <td>-0.444444</td>\n",
       "      <td>-0.856226</td>\n",
       "      <td>-0.255319</td>\n",
       "      <td>-0.438220</td>\n",
       "      <td>0.000000</td>\n",
       "      <td>1.0</td>\n",
       "      <td>0.0</td>\n",
       "      <td>0.0</td>\n",
       "      <td>0.015714</td>\n",
       "      <td>0.103160</td>\n",
       "      <td>0.059425</td>\n",
       "      <td>0.077793</td>\n",
       "      <td>0.132645</td>\n",
       "    </tr>\n",
       "    <tr>\n",
       "      <th>2</th>\n",
       "      <td>1</td>\n",
       "      <td>-1.444444</td>\n",
       "      <td>-1.164088</td>\n",
       "      <td>-0.595745</td>\n",
       "      <td>0.801439</td>\n",
       "      <td>0.332571</td>\n",
       "      <td>1.0</td>\n",
       "      <td>0.0</td>\n",
       "      <td>0.0</td>\n",
       "      <td>0.405714</td>\n",
       "      <td>0.172179</td>\n",
       "      <td>0.356600</td>\n",
       "      <td>0.332281</td>\n",
       "      <td>0.059085</td>\n",
       "    </tr>\n",
       "    <tr>\n",
       "      <th>3</th>\n",
       "      <td>1</td>\n",
       "      <td>1.000000</td>\n",
       "      <td>-0.394433</td>\n",
       "      <td>-0.085106</td>\n",
       "      <td>-0.438220</td>\n",
       "      <td>0.540000</td>\n",
       "      <td>1.0</td>\n",
       "      <td>0.0</td>\n",
       "      <td>0.0</td>\n",
       "      <td>0.092857</td>\n",
       "      <td>0.166721</td>\n",
       "      <td>0.084749</td>\n",
       "      <td>0.018086</td>\n",
       "      <td>0.244915</td>\n",
       "    </tr>\n",
       "    <tr>\n",
       "      <th>4</th>\n",
       "      <td>1</td>\n",
       "      <td>1.000000</td>\n",
       "      <td>-0.394433</td>\n",
       "      <td>-0.085106</td>\n",
       "      <td>1.421268</td>\n",
       "      <td>0.152857</td>\n",
       "      <td>0.0</td>\n",
       "      <td>1.0</td>\n",
       "      <td>0.0</td>\n",
       "      <td>0.910000</td>\n",
       "      <td>0.494464</td>\n",
       "      <td>0.624104</td>\n",
       "      <td>0.694191</td>\n",
       "      <td>0.362405</td>\n",
       "    </tr>\n",
       "  </tbody>\n",
       "</table>\n",
       "</div>"
      ],
      "text/plain": [
       "   gender       age    height    weight  number of dishes  Vegetables[g]  \\\n",
       "0       1 -0.777778 -1.471950 -0.851064         -0.438220       0.082857   \n",
       "1       1 -0.444444 -0.856226 -0.255319         -0.438220       0.000000   \n",
       "2       1 -1.444444 -1.164088 -0.595745          0.801439       0.332571   \n",
       "3       1  1.000000 -0.394433 -0.085106         -0.438220       0.540000   \n",
       "4       1  1.000000 -0.394433 -0.085106          1.421268       0.152857   \n",
       "\n",
       "   breakfast  lunch  dinner      salt   E ratio   P ratio   F ratio   C ratio  \n",
       "0        1.0    0.0     0.0  0.030000  0.201734  0.094288  0.016319  0.304986  \n",
       "1        1.0    0.0     0.0  0.015714  0.103160  0.059425  0.077793  0.132645  \n",
       "2        1.0    0.0     0.0  0.405714  0.172179  0.356600  0.332281  0.059085  \n",
       "3        1.0    0.0     0.0  0.092857  0.166721  0.084749  0.018086  0.244915  \n",
       "4        0.0    1.0     0.0  0.910000  0.494464  0.624104  0.694191  0.362405  "
      ]
     },
     "execution_count": 34,
     "metadata": {},
     "output_type": "execute_result"
    }
   ],
   "source": [
    "X.head()"
   ]
  },
  {
   "cell_type": "markdown",
   "id": "6f2788eb",
   "metadata": {},
   "source": [
    "# Test train split"
   ]
  },
  {
   "cell_type": "code",
   "execution_count": 35,
   "id": "61c0d5e7",
   "metadata": {},
   "outputs": [],
   "source": [
    "from sklearn.model_selection import train_test_split"
   ]
  },
  {
   "cell_type": "code",
   "execution_count": 36,
   "id": "85921e40",
   "metadata": {},
   "outputs": [],
   "source": [
    "X_train, X_test, y_train, y_test = train_test_split(X, y, test_size=0.2, random_state=42)"
   ]
  },
  {
   "cell_type": "code",
   "execution_count": 37,
   "id": "d2d71c3d",
   "metadata": {},
   "outputs": [
    {
     "data": {
      "text/plain": [
       "gender              1051\n",
       "age                 1051\n",
       "height              1051\n",
       "weight              1051\n",
       "number of dishes    1051\n",
       "Vegetables[g]       1051\n",
       "breakfast           1051\n",
       "lunch               1051\n",
       "dinner              1051\n",
       "salt                1051\n",
       "E ratio             1051\n",
       "P ratio             1051\n",
       "F ratio             1051\n",
       "C ratio             1051\n",
       "dtype: int64"
      ]
     },
     "execution_count": 37,
     "metadata": {},
     "output_type": "execute_result"
    }
   ],
   "source": [
    "X_train.count()"
   ]
  },
  {
   "cell_type": "markdown",
   "id": "c1c6cfce",
   "metadata": {},
   "source": [
    "# Baseline Model"
   ]
  },
  {
   "cell_type": "code",
   "execution_count": 38,
   "id": "53a0f8d8",
   "metadata": {},
   "outputs": [
    {
     "name": "stdout",
     "output_type": "stream",
     "text": [
      "Before any feature permutation, the cross-validated accuracy is equal to 0.72\n"
     ]
    }
   ],
   "source": [
    "import numpy as np\n",
    "from sklearn.model_selection import cross_validate\n",
    "from sklearn.inspection import permutation_importance\n",
    "from sklearn.linear_model import LogisticRegression\n",
    "from sklearn.model_selection import cross_val_score\n",
    "\n",
    "# Evaluate model without feature permutation\n",
    "model = LogisticRegression()\n",
    "cv_results = cross_validate(model, X_train, y_train, cv = 5)\n",
    "score = cv_results[\"test_score\"].mean()\n",
    "print(f\"Before any feature permutation, the cross-validated accuracy is equal to {round(score,2)}\")\n",
    "\n",
    "\n"
   ]
  },
  {
   "cell_type": "code",
   "execution_count": 39,
   "id": "e382c789",
   "metadata": {},
   "outputs": [
    {
     "name": "stdout",
     "output_type": "stream",
     "text": [
      "After feature permutation, here are the decreases in terms of scores:\n"
     ]
    },
    {
     "data": {
      "text/html": [
       "<div>\n",
       "<style scoped>\n",
       "    .dataframe tbody tr th:only-of-type {\n",
       "        vertical-align: middle;\n",
       "    }\n",
       "\n",
       "    .dataframe tbody tr th {\n",
       "        vertical-align: top;\n",
       "    }\n",
       "\n",
       "    .dataframe thead th {\n",
       "        text-align: right;\n",
       "    }\n",
       "</style>\n",
       "<table border=\"1\" class=\"dataframe\">\n",
       "  <thead>\n",
       "    <tr style=\"text-align: right;\">\n",
       "      <th></th>\n",
       "      <th>feature</th>\n",
       "      <th>feature_importance</th>\n",
       "    </tr>\n",
       "  </thead>\n",
       "  <tbody>\n",
       "    <tr>\n",
       "      <th>4</th>\n",
       "      <td>number of dishes</td>\n",
       "      <td>0.087926</td>\n",
       "    </tr>\n",
       "    <tr>\n",
       "      <th>9</th>\n",
       "      <td>salt</td>\n",
       "      <td>0.078725</td>\n",
       "    </tr>\n",
       "    <tr>\n",
       "      <th>5</th>\n",
       "      <td>Vegetables[g]</td>\n",
       "      <td>0.052055</td>\n",
       "    </tr>\n",
       "    <tr>\n",
       "      <th>3</th>\n",
       "      <td>weight</td>\n",
       "      <td>0.03039</td>\n",
       "    </tr>\n",
       "    <tr>\n",
       "      <th>13</th>\n",
       "      <td>C ratio</td>\n",
       "      <td>0.024263</td>\n",
       "    </tr>\n",
       "    <tr>\n",
       "      <th>11</th>\n",
       "      <td>P ratio</td>\n",
       "      <td>0.014872</td>\n",
       "    </tr>\n",
       "    <tr>\n",
       "      <th>12</th>\n",
       "      <td>F ratio</td>\n",
       "      <td>0.013007</td>\n",
       "    </tr>\n",
       "    <tr>\n",
       "      <th>0</th>\n",
       "      <td>gender</td>\n",
       "      <td>0.010913</td>\n",
       "    </tr>\n",
       "    <tr>\n",
       "      <th>6</th>\n",
       "      <td>breakfast</td>\n",
       "      <td>0.006746</td>\n",
       "    </tr>\n",
       "    <tr>\n",
       "      <th>8</th>\n",
       "      <td>dinner</td>\n",
       "      <td>0.004129</td>\n",
       "    </tr>\n",
       "    <tr>\n",
       "      <th>1</th>\n",
       "      <td>age</td>\n",
       "      <td>0.001123</td>\n",
       "    </tr>\n",
       "    <tr>\n",
       "      <th>10</th>\n",
       "      <td>E ratio</td>\n",
       "      <td>0.000171</td>\n",
       "    </tr>\n",
       "    <tr>\n",
       "      <th>2</th>\n",
       "      <td>height</td>\n",
       "      <td>-0.000409</td>\n",
       "    </tr>\n",
       "    <tr>\n",
       "      <th>7</th>\n",
       "      <td>lunch</td>\n",
       "      <td>-0.00118</td>\n",
       "    </tr>\n",
       "  </tbody>\n",
       "</table>\n",
       "</div>"
      ],
      "text/plain": [
       "             feature feature_importance\n",
       "4   number of dishes           0.087926\n",
       "9               salt           0.078725\n",
       "5      Vegetables[g]           0.052055\n",
       "3             weight            0.03039\n",
       "13           C ratio           0.024263\n",
       "11           P ratio           0.014872\n",
       "12           F ratio           0.013007\n",
       "0             gender           0.010913\n",
       "6          breakfast           0.006746\n",
       "8             dinner           0.004129\n",
       "1                age           0.001123\n",
       "10           E ratio           0.000171\n",
       "2             height          -0.000409\n",
       "7              lunch           -0.00118"
      ]
     },
     "execution_count": 39,
     "metadata": {},
     "output_type": "execute_result"
    }
   ],
   "source": [
    "\n",
    "model = LogisticRegression().fit(X,y) # Fit the model \n",
    "permutation_score = permutation_importance(model, X_train, y_train, n_repeats=100) \n",
    "importance_df = pd.DataFrame(np.vstack((X.columns,\n",
    "                                        permutation_score.importances_mean)).T, \n",
    "                            columns = ['feature','feature_importance']) \n",
    "\n",
    "print(\"After feature permutation, here are the decreases in terms of scores:\")\n",
    "importance_df = importance_df.sort_values(by=\"feature_importance\", ascending = False) # Order by importance\n",
    "importance_df\n"
   ]
  },
  {
   "cell_type": "code",
   "execution_count": 40,
   "id": "7533d9d7",
   "metadata": {},
   "outputs": [
    {
     "data": {
      "text/plain": [
       "0.6844106463878327"
      ]
     },
     "execution_count": 40,
     "metadata": {},
     "output_type": "execute_result"
    }
   ],
   "source": [
    "score = model.score(X_test, y_test)\n",
    "score"
   ]
  },
  {
   "cell_type": "markdown",
   "id": "48b11985",
   "metadata": {},
   "source": [
    "# SVM\n"
   ]
  },
  {
   "cell_type": "code",
   "execution_count": null,
   "id": "0270eb96",
   "metadata": {},
   "outputs": [],
   "source": []
  },
  {
   "cell_type": "code",
   "execution_count": 80,
   "id": "f879f278",
   "metadata": {},
   "outputs": [
    {
     "name": "stdout",
     "output_type": "stream",
     "text": [
      "Model test score with cross validation: 0.7117\n",
      "Cohens kappa: 0.401541\n"
     ]
    }
   ],
   "source": [
    "from sklearn.svm import SVC\n",
    "from sklearn.metrics import accuracy_score\n",
    "svm=SVC() \n",
    "svm.fit(X_train,y_train)\n",
    "svm_cv_results = cross_validate(svm, X_train, y_train, cv=5,scoring=['precision_macro', 'recall_macro','accuracy'])\n",
    "svm_cv_results\n",
    "print('Model test score with cross validation: {0:0.4f}'. format(svm_cv_results['test_accuracy'].mean()))\n",
    "y_pred=classifier.predict(X_test)\n",
    "kappa = cohen_kappa_score(y_test, y_pred)\n",
    "print('Cohens kappa: %f' % kappa)\n",
    "\n"
   ]
  },
  {
   "cell_type": "markdown",
   "id": "d487a195",
   "metadata": {},
   "source": [
    "# Random forest"
   ]
  },
  {
   "cell_type": "code",
   "execution_count": 42,
   "id": "a9fe0106",
   "metadata": {},
   "outputs": [],
   "source": [
    "from sklearn.ensemble import RandomForestClassifier"
   ]
  },
  {
   "cell_type": "code",
   "execution_count": 89,
   "id": "6d1b38fd",
   "metadata": {},
   "outputs": [
    {
     "name": "stdout",
     "output_type": "stream",
     "text": [
      "Model test score with cross validation: 0.8021\n",
      "Cohens kappa: 0.666350\n"
     ]
    }
   ],
   "source": [
    "Rfmodel = RandomForestClassifier()\n",
    "Rfmodel.fit(X_train,y_train)\n",
    "Rf_cv_results = cross_validate(Rfmodel, X_train, y_train, cv=5)\n",
    "print('Model test score with cross validation: {0:0.4f}'. format(Rf_cv_results['test_score'].mean()))\n",
    "y_pred=Rfmodel.predict(X_test)\n",
    "kappa = cohen_kappa_score(y_test, y_pred)\n",
    "print('Cohens kappa: %f' % kappa)\n"
   ]
  },
  {
   "cell_type": "markdown",
   "id": "c8faea9b",
   "metadata": {},
   "source": [
    "# Naive Bayes"
   ]
  },
  {
   "cell_type": "code",
   "execution_count": 77,
   "id": "8df2cf48",
   "metadata": {},
   "outputs": [
    {
     "name": "stdout",
     "output_type": "stream",
     "text": [
      "Model test score with cross validation: 0.7012\n"
     ]
    }
   ],
   "source": [
    "from sklearn.naive_bayes import GaussianNB\n",
    "classifier = GaussianNB()\n",
    "classifier.fit(X_train, y_train)\n",
    "NB_cv_results = cross_validate(classifier, X_train, y_train, cv=5)\n",
    "print('Model test score with cross validation: {0:0.4f}'. format(NB_cv_results['test_score'].mean()))\n",
    "\n",
    "\n",
    "\n"
   ]
  },
  {
   "cell_type": "code",
   "execution_count": 78,
   "id": "8a8c110a",
   "metadata": {},
   "outputs": [
    {
     "name": "stdout",
     "output_type": "stream",
     "text": [
      "              precision    recall  f1-score   support\n",
      "\n",
      "           1       0.59      0.73      0.65        59\n",
      "           2       0.74      0.70      0.72       154\n",
      "           3       0.44      0.36      0.39        42\n",
      "           4       0.40      0.50      0.44         8\n",
      "\n",
      "    accuracy                           0.65       263\n",
      "   macro avg       0.54      0.57      0.55       263\n",
      "weighted avg       0.65      0.65      0.64       263\n",
      "\n"
     ]
    }
   ],
   "source": [
    "y_pred=classifier.predict(X_test)\n",
    "label_names = ['1', '2', '3', '4']\n",
    "print(classification_report(y_test, y_pred,target_names=label_names))"
   ]
  },
  {
   "cell_type": "code",
   "execution_count": 79,
   "id": "63edb3b7",
   "metadata": {},
   "outputs": [
    {
     "name": "stdout",
     "output_type": "stream",
     "text": [
      "Cohens kappa: 0.401541\n"
     ]
    }
   ],
   "source": [
    "kappa = cohen_kappa_score(y_test, y_pred)\n",
    "print('Cohens kappa: %f' % kappa)"
   ]
  },
  {
   "cell_type": "markdown",
   "id": "658e4907",
   "metadata": {},
   "source": [
    "# KNN"
   ]
  },
  {
   "cell_type": "code",
   "execution_count": 46,
   "id": "722b6336",
   "metadata": {},
   "outputs": [
    {
     "name": "stdout",
     "output_type": "stream",
     "text": [
      "Model test score with cross validation: 0.6632\n"
     ]
    }
   ],
   "source": [
    "from sklearn.neighbors import KNeighborsClassifier\n",
    "knn = KNeighborsClassifier(n_neighbors=3, p=1)\n",
    "knn.fit(X_train, y_train)\n",
    "knn_cv_results = cross_validate(knn, X_train, y_train, cv=5)\n",
    "print('Model test score with cross validation: {0:0.4f}'. format(knn_cv_results['test_score'].mean()))"
   ]
  },
  {
   "cell_type": "code",
   "execution_count": 47,
   "id": "33bdfff2",
   "metadata": {
    "scrolled": true
   },
   "outputs": [
    {
     "name": "stdout",
     "output_type": "stream",
     "text": [
      "              precision    recall  f1-score   support\n",
      "\n",
      "           1       0.63      0.69      0.66        59\n",
      "           2       0.69      0.78      0.73       154\n",
      "           3       0.38      0.21      0.27        42\n",
      "           4       0.00      0.00      0.00         8\n",
      "\n",
      "    accuracy                           0.65       263\n",
      "   macro avg       0.42      0.42      0.42       263\n",
      "weighted avg       0.61      0.65      0.62       263\n",
      "\n"
     ]
    }
   ],
   "source": [
    "y_pred=knn.predict(X_test)\n",
    "label_names = ['1', '2', '3', '4']\n",
    "print(classification_report(y_test, y_pred,target_names=label_names))\n"
   ]
  },
  {
   "cell_type": "code",
   "execution_count": 48,
   "id": "b71ca21e",
   "metadata": {},
   "outputs": [
    {
     "data": {
      "text/plain": [
       "0.34828137490007993"
      ]
     },
     "execution_count": 48,
     "metadata": {},
     "output_type": "execute_result"
    }
   ],
   "source": [
    "from sklearn.metrics import cohen_kappa_score\n",
    "cohen_kappa_score(y_test, y_pred)"
   ]
  },
  {
   "cell_type": "markdown",
   "id": "50c21821",
   "metadata": {},
   "source": [
    "# Model Tuning for Random Forest Model"
   ]
  },
  {
   "cell_type": "markdown",
   "id": "b50ee2b6",
   "metadata": {},
   "source": []
  },
  {
   "cell_type": "code",
   "execution_count": 75,
   "id": "3743e11d",
   "metadata": {},
   "outputs": [
    {
     "data": {
      "text/plain": [
       "{'fit_time': array([0.13009095, 0.12604523, 0.12870574, 0.13747191, 0.13659811]),\n",
       " 'score_time': array([0.00722098, 0.00703692, 0.00766611, 0.00761127, 0.00738311]),\n",
       " 'test_score': array([0.8056872 , 0.8047619 , 0.80952381, 0.7952381 , 0.80952381])}"
      ]
     },
     "execution_count": 75,
     "metadata": {},
     "output_type": "execute_result"
    }
   ],
   "source": [
    "Rfmodel = RandomForestClassifier(random_state=49)\n",
    "Rfmodel.fit(X_train,y_train)\n",
    "rf_cv_results = cross_validate(Rfmodel, X_train, y_train, cv=5 )\n",
    "rf_cv_results"
   ]
  },
  {
   "cell_type": "code",
   "execution_count": 76,
   "id": "d77c27e9",
   "metadata": {},
   "outputs": [
    {
     "name": "stdout",
     "output_type": "stream",
     "text": [
      "Model accuracy score with default hyperparameters: 0.8099\n",
      "Cohens kappa: 0.650219\n"
     ]
    }
   ],
   "source": [
    "y_pred=Rfmodel.predict(X_test)\n",
    "print('Model accuracy score with default hyperparameters: {0:0.4f}'. format(accuracy_score(y_test, y_pred)))\n",
    "kappa = cohen_kappa_score(y_test, y_pred)\n",
    "print('Cohens kappa: %f' % kappa)"
   ]
  },
  {
   "cell_type": "code",
   "execution_count": 51,
   "id": "d31b5474",
   "metadata": {},
   "outputs": [],
   "source": [
    "feat_imp =Rfmodel.feature_importances_"
   ]
  },
  {
   "cell_type": "code",
   "execution_count": 52,
   "id": "6f20ee94",
   "metadata": {},
   "outputs": [
    {
     "data": {
      "text/plain": [
       "array([0.00795638, 0.03195036, 0.03194573, 0.03583446, 0.0444857 ,\n",
       "       0.18362153, 0.01143314, 0.00887069, 0.00967928, 0.13936383,\n",
       "       0.13296402, 0.15294376, 0.10413354, 0.10481759])"
      ]
     },
     "execution_count": 52,
     "metadata": {},
     "output_type": "execute_result"
    }
   ],
   "source": [
    "feat_imp"
   ]
  },
  {
   "cell_type": "markdown",
   "id": "3efece54",
   "metadata": {},
   "source": [
    "## Feature importance"
   ]
  },
  {
   "cell_type": "code",
   "execution_count": 53,
   "id": "156b2637",
   "metadata": {},
   "outputs": [],
   "source": [
    "def plot_feature_importance(importance,names,model_type):\n",
    "\n",
    "#Create arrays from feature importance and feature names\n",
    "    feature_importance = np.array(importance)\n",
    "    feature_names = np.array(names)\n",
    "\n",
    "#Create a DataFrame using a Dictionary\n",
    "    data={'feature_names':feature_names,'feature_importance':feature_importance}\n",
    "    fi_df = pd.DataFrame(data)\n",
    "\n",
    "#Sort the DataFrame in order decreasing feature importance\n",
    "    fi_df.sort_values(by=['feature_importance'], ascending=False,inplace=True)\n",
    "\n",
    "#Define size of bar plot\n",
    "    plt.figure(figsize=(10,8))\n",
    "#Plot Searborn bar chart\n",
    "    sns.barplot(x=fi_df['feature_importance'], y=fi_df['feature_names'])\n",
    "#Add chart labels\n",
    "    plt.title(model_type + 'FEATURE IMPORTANCE')\n",
    "    plt.xlabel('FEATURE IMPORTANCE')\n",
    "    plt.ylabel('FEATURE NAMES')"
   ]
  },
  {
   "cell_type": "code",
   "execution_count": 54,
   "id": "734a9ab9",
   "metadata": {},
   "outputs": [
    {
     "data": {
      "image/png": "[encoded data removed]",
      "text/plain": [
       "<Figure size 720x576 with 1 Axes>"
      ]
     },
     "metadata": {
      "needs_background": "light"
     },
     "output_type": "display_data"
    }
   ],
   "source": [
    "plot_feature_importance(Rfmodel.feature_importances_,X_train.columns,'RANDOM FOREST')"
   ]
  },
  {
   "cell_type": "code",
   "execution_count": 55,
   "id": "4b7dcc87",
   "metadata": {},
   "outputs": [],
   "source": [
    "new_df= X.drop(columns=['gender','lunch','dinner','breakfast'])"
   ]
  },
  {
   "cell_type": "code",
   "execution_count": 67,
   "id": "6c989b76",
   "metadata": {},
   "outputs": [],
   "source": [
    "new_train, new_test, target_train, target_test = train_test_split(new_df, y, test_size=0.2, random_state=42)"
   ]
  },
  {
   "cell_type": "code",
   "execution_count": 68,
   "id": "3c4c4928",
   "metadata": {},
   "outputs": [
    {
     "name": "stdout",
     "output_type": "stream",
     "text": [
      "Model accuracy score with default hyperparameters: 0.8327\n"
     ]
    }
   ],
   "source": [
    "Rfmodel = RandomForestClassifier(random_state=49)\n",
    "Rfmodel.fit(new_train,target_train)\n",
    "y_pred=Rfmodel.predict(new_test)\n",
    "print('Model accuracy score with default hyperparameters: {0:0.4f}'. format(accuracy_score(target_test, y_pred)))"
   ]
  },
  {
   "cell_type": "code",
   "execution_count": 69,
   "id": "e05b3312",
   "metadata": {},
   "outputs": [],
   "source": [
    "from sklearn import metrics\n",
    "precision = metrics.precision_score(target_test,y_pred,average=None)\n",
    "recall = metrics.recall_score(target_test,y_pred,average=None)"
   ]
  },
  {
   "cell_type": "markdown",
   "id": "5c482e40",
   "metadata": {},
   "source": [
    "\n"
   ]
  },
  {
   "cell_type": "code",
   "execution_count": 70,
   "id": "304eaaab",
   "metadata": {},
   "outputs": [
    {
     "data": {
      "text/plain": [
       "array([0.98      , 0.85542169, 0.59574468, 0.        ])"
      ]
     },
     "execution_count": 70,
     "metadata": {},
     "output_type": "execute_result"
    }
   ],
   "source": [
    "precision"
   ]
  },
  {
   "cell_type": "code",
   "execution_count": 71,
   "id": "15177417",
   "metadata": {},
   "outputs": [
    {
     "data": {
      "text/plain": [
       "array([0.83050847, 0.92207792, 0.66666667, 0.        ])"
      ]
     },
     "execution_count": 71,
     "metadata": {},
     "output_type": "execute_result"
    }
   ],
   "source": [
    "recall"
   ]
  },
  {
   "cell_type": "code",
   "execution_count": 72,
   "id": "74343796",
   "metadata": {},
   "outputs": [
    {
     "name": "stdout",
     "output_type": "stream",
     "text": [
      "              precision    recall  f1-score   support\n",
      "\n",
      "           1       0.98      0.83      0.90        59\n",
      "           2       0.86      0.92      0.89       154\n",
      "           3       0.60      0.67      0.63        42\n",
      "           4       0.00      0.00      0.00         8\n",
      "\n",
      "    accuracy                           0.83       263\n",
      "   macro avg       0.61      0.60      0.60       263\n",
      "weighted avg       0.82      0.83      0.82       263\n",
      "\n"
     ]
    }
   ],
   "source": [
    "label_names = ['1', '2', '3', '4']\n",
    "print(classification_report(target_test, y_pred,target_names=label_names))\n"
   ]
  },
  {
   "cell_type": "code",
   "execution_count": 73,
   "id": "7408aa9f",
   "metadata": {},
   "outputs": [
    {
     "name": "stdout",
     "output_type": "stream",
     "text": [
      "Cohens kappa: 0.700835\n"
     ]
    }
   ],
   "source": [
    "kappa = cohen_kappa_score(target_test, y_pred)\n",
    "print('Cohens kappa: %f' % kappa)"
   ]
  },
  {
   "cell_type": "markdown",
   "id": "65bc5d06",
   "metadata": {},
   "source": [
    "## Try to improve the prediction of class 4"
   ]
  },
  {
   "cell_type": "code",
   "execution_count": 81,
   "id": "a9494258",
   "metadata": {},
   "outputs": [],
   "source": [
    "from imblearn.over_sampling import SMOTE"
   ]
  },
  {
   "cell_type": "code",
   "execution_count": 82,
   "id": "5fe856d8",
   "metadata": {},
   "outputs": [],
   "source": [
    "sm = SMOTE(random_state=2)\n",
    "X_train_res, y_train_res = sm.fit_resample(new_train, target_train.ravel())"
   ]
  },
  {
   "cell_type": "code",
   "execution_count": 83,
   "id": "6ba52aa3",
   "metadata": {},
   "outputs": [
    {
     "name": "stdout",
     "output_type": "stream",
     "text": [
      "Model accuracy score with default hyperparameters: 0.8061\n"
     ]
    }
   ],
   "source": [
    "Rfmodel = RandomForestClassifier(random_state=49)\n",
    "Rfmodel.fit(X_train_res,y_train_res)\n",
    "y_pred=Rfmodel.predict(new_test)\n",
    "print('Model accuracy score with default hyperparameters: {0:0.4f}'. format(accuracy_score(target_test, y_pred)))"
   ]
  },
  {
   "cell_type": "code",
   "execution_count": 84,
   "id": "4773a011",
   "metadata": {},
   "outputs": [
    {
     "name": "stdout",
     "output_type": "stream",
     "text": [
      "              precision    recall  f1-score   support\n",
      "\n",
      "           1       0.88      0.83      0.85        59\n",
      "           2       0.85      0.88      0.87       154\n",
      "           3       0.59      0.62      0.60        42\n",
      "           4       0.40      0.25      0.31         8\n",
      "\n",
      "    accuracy                           0.81       263\n",
      "   macro avg       0.68      0.64      0.66       263\n",
      "weighted avg       0.80      0.81      0.80       263\n",
      "\n"
     ]
    }
   ],
   "source": [
    "label_names = ['1', '2', '3', '4']\n",
    "print(classification_report(target_test, y_pred,target_names=label_names))"
   ]
  },
  {
   "cell_type": "code",
   "execution_count": 85,
   "id": "0d1c5238",
   "metadata": {
    "scrolled": true
   },
   "outputs": [
    {
     "name": "stdout",
     "output_type": "stream",
     "text": [
      "Cohens kappa: 0.661672\n"
     ]
    }
   ],
   "source": [
    "kappa = cohen_kappa_score(target_test, y_pred)\n",
    "print('Cohens kappa: %f' % kappa)"
   ]
  },
  {
   "cell_type": "code",
   "execution_count": null,
   "id": "19d90b2f",
   "metadata": {},
   "outputs": [],
   "source": []
  },
  {
   "cell_type": "code",
   "execution_count": null,
   "id": "0f197303",
   "metadata": {},
   "outputs": [],
   "source": []
  },
  {
   "cell_type": "code",
   "execution_count": null,
   "id": "c08c8d6f",
   "metadata": {},
   "outputs": [],
   "source": []
  }
 ],
 "metadata": {
  "kernelspec": {
   "display_name": "Python 3 (ipykernel)",
   "language": "python",
   "name": "python3"
  },
  "language_info": {
   "codemirror_mode": {
    "name": "ipython",
    "version": 3
   },
   "file_extension": ".py",
   "mimetype": "text/x-python",
   "name": "python",
   "nbconvert_exporter": "python",
   "pygments_lexer": "ipython3",
   "version": "3.9.12"
  },
  "toc": {
   "base_numbering": 1,
   "nav_menu": {},
   "number_sections": true,
   "sideBar": true,
   "skip_h1_title": false,
   "title_cell": "Table of Contents",
   "title_sidebar": "Contents",
   "toc_cell": false,
   "toc_position": {},
   "toc_section_display": true,
   "toc_window_display": false
  }
 },
 "nbformat": 4,
 "nbformat_minor": 5
}
